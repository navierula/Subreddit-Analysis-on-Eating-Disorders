{
 "cells": [
  {
   "cell_type": "code",
   "execution_count": 11,
   "metadata": {
    "collapsed": false
   },
   "outputs": [],
   "source": [
    "# import libraries\n",
    "import collections\n",
    "import hashlib\n",
    "import nltk\n",
    "from nltk.tokenize import word_tokenize\n",
    "from nltk.corpus import stopwords\n",
    "from nltk.probability import FreqDist\n",
    "from nltk.tag import pos_tag, map_tag\n",
    "import pandas as pd\n",
    "import string\n",
    "import re\n",
    "\n",
    "# load data\n",
    "anorexiaSubreddits = pd.read_csv(\"data/subreddits_anorexia.csv\", encoding='ISO-8859-1')\n",
    "obesitySubreddits = pd.read_csv(\"data/subreddits_obesity.csv\", encoding='ISO-8859-1')\n",
    "bothSubreddits = pd.read_csv(\"data/subreddits_both.csv\", encoding='ISO-8859-1')"
   ]
  },
  {
   "cell_type": "code",
   "execution_count": 12,
   "metadata": {
    "collapsed": true
   },
   "outputs": [],
   "source": [
    "# apply hash function to author column in each dataset\n",
    "anorexia_authors = anorexiaSubreddits.drop_duplicates(subset=\"author\")['author'].apply(lambda a: hashlib.md5(a.encode()).hexdigest()).to_frame()\n",
    "obesity_authors = obesitySubreddits.drop_duplicates(subset=\"author\")['author'].apply(lambda a: hashlib.md5(a.encode()).hexdigest()).to_frame()\n",
    "both_authors = bothSubreddits.drop_duplicates(subset=\"author\")['author'].apply(lambda a: hashlib.md5(a.encode()).hexdigest()).to_frame()"
   ]
  },
  {
   "cell_type": "code",
   "execution_count": 13,
   "metadata": {
    "collapsed": true
   },
   "outputs": [],
   "source": [
    "anorexiaSubreddits['hashedAuthors'] = anorexia_authors\n",
    "obesitySubreddits['hashedAuthors'] = obesity_authors\n",
    "bothSubreddits['hashedAuthors'] = both_authors"
   ]
  },
  {
   "cell_type": "code",
   "execution_count": 17,
   "metadata": {
    "collapsed": false
   },
   "outputs": [
    {
     "data": {
      "text/html": [
       "<div>\n",
       "<table border=\"1\" class=\"dataframe\">\n",
       "  <thead>\n",
       "    <tr style=\"text-align: right;\">\n",
       "      <th></th>\n",
       "      <th>author</th>\n",
       "    </tr>\n",
       "  </thead>\n",
       "  <tbody>\n",
       "    <tr>\n",
       "      <th>0</th>\n",
       "      <td>2e3cea450d14a67fac90de804c3984e0</td>\n",
       "    </tr>\n",
       "    <tr>\n",
       "      <th>1</th>\n",
       "      <td>9c02696b2e66a443afca156e917e03eb</td>\n",
       "    </tr>\n",
       "    <tr>\n",
       "      <th>2</th>\n",
       "      <td>87774818e97b0deba1982e3cf1d2d2e7</td>\n",
       "    </tr>\n",
       "    <tr>\n",
       "      <th>3</th>\n",
       "      <td>4391f26dc3b679280b2d091960f1f73c</td>\n",
       "    </tr>\n",
       "    <tr>\n",
       "      <th>4</th>\n",
       "      <td>ce035158b46aed8af92168dd6fa32ffa</td>\n",
       "    </tr>\n",
       "  </tbody>\n",
       "</table>\n",
       "</div>"
      ],
      "text/plain": [
       "                             author\n",
       "0  2e3cea450d14a67fac90de804c3984e0\n",
       "1  9c02696b2e66a443afca156e917e03eb\n",
       "2  87774818e97b0deba1982e3cf1d2d2e7\n",
       "3  4391f26dc3b679280b2d091960f1f73c\n",
       "4  ce035158b46aed8af92168dd6fa32ffa"
      ]
     },
     "execution_count": 17,
     "metadata": {},
     "output_type": "execute_result"
    }
   ],
   "source": [
    "# print example of anorexia_authors (hashed)\n",
    "anorexia_authors.head()"
   ]
  },
  {
   "cell_type": "markdown",
   "metadata": {},
   "source": [
    "# Analysis on Anorexia-Related Subreddits"
   ]
  },
  {
   "cell_type": "code",
   "execution_count": 24,
   "metadata": {
    "collapsed": false
   },
   "outputs": [
    {
     "data": {
      "text/html": [
       "<div>\n",
       "<table border=\"1\" class=\"dataframe\">\n",
       "  <thead>\n",
       "    <tr style=\"text-align: right;\">\n",
       "      <th></th>\n",
       "      <th>hashedAuthors</th>\n",
       "      <th>body</th>\n",
       "      <th>subreddit</th>\n",
       "      <th>subreddit_id</th>\n",
       "      <th>score</th>\n",
       "    </tr>\n",
       "  </thead>\n",
       "  <tbody>\n",
       "    <tr>\n",
       "      <th>0</th>\n",
       "      <td>2e3cea450d14a67fac90de804c3984e0</td>\n",
       "      <td>\"Anorexia survivor\". How many people do actual...</td>\n",
       "      <td>TumblrInAction</td>\n",
       "      <td>t5_2vizz</td>\n",
       "      <td>2</td>\n",
       "    </tr>\n",
       "    <tr>\n",
       "      <th>1</th>\n",
       "      <td>9c02696b2e66a443afca156e917e03eb</td>\n",
       "      <td>Feminism.  I thought it was all bra-burning ma...</td>\n",
       "      <td>AskReddit</td>\n",
       "      <td>t5_2qh1i</td>\n",
       "      <td>2</td>\n",
       "    </tr>\n",
       "    <tr>\n",
       "      <th>2</th>\n",
       "      <td>87774818e97b0deba1982e3cf1d2d2e7</td>\n",
       "      <td>This sounds like a bulimia/anorexia issue rath...</td>\n",
       "      <td>TalesFromYourServer</td>\n",
       "      <td>t5_2v480</td>\n",
       "      <td>11</td>\n",
       "    </tr>\n",
       "    <tr>\n",
       "      <th>3</th>\n",
       "      <td>4391f26dc3b679280b2d091960f1f73c</td>\n",
       "      <td>Work on the depression primarily. Its likely t...</td>\n",
       "      <td>AskReddit</td>\n",
       "      <td>t5_2qh1i</td>\n",
       "      <td>2</td>\n",
       "    </tr>\n",
       "    <tr>\n",
       "      <th>4</th>\n",
       "      <td>ce035158b46aed8af92168dd6fa32ffa</td>\n",
       "      <td>Much like with \"curves\" and \"anorexia\", fat pe...</td>\n",
       "      <td>fatlogic</td>\n",
       "      <td>t5_2wyxm</td>\n",
       "      <td>11</td>\n",
       "    </tr>\n",
       "  </tbody>\n",
       "</table>\n",
       "</div>"
      ],
      "text/plain": [
       "                      hashedAuthors  \\\n",
       "0  2e3cea450d14a67fac90de804c3984e0   \n",
       "1  9c02696b2e66a443afca156e917e03eb   \n",
       "2  87774818e97b0deba1982e3cf1d2d2e7   \n",
       "3  4391f26dc3b679280b2d091960f1f73c   \n",
       "4  ce035158b46aed8af92168dd6fa32ffa   \n",
       "\n",
       "                                                body            subreddit  \\\n",
       "0  \"Anorexia survivor\". How many people do actual...       TumblrInAction   \n",
       "1  Feminism.  I thought it was all bra-burning ma...            AskReddit   \n",
       "2  This sounds like a bulimia/anorexia issue rath...  TalesFromYourServer   \n",
       "3  Work on the depression primarily. Its likely t...            AskReddit   \n",
       "4  Much like with \"curves\" and \"anorexia\", fat pe...             fatlogic   \n",
       "\n",
       "  subreddit_id  score  \n",
       "0     t5_2vizz      2  \n",
       "1     t5_2qh1i      2  \n",
       "2     t5_2v480     11  \n",
       "3     t5_2qh1i      2  \n",
       "4     t5_2wyxm     11  "
      ]
     },
     "execution_count": 24,
     "metadata": {},
     "output_type": "execute_result"
    }
   ],
   "source": [
    "# print first 10 rows of anorexia-related subreddits\n",
    "# (minus original author column)\n",
    "anorexiaSubreddits[[\"hashedAuthors\", \"body\", \"subreddit\", \"subreddit_id\", \"score\"]].head()"
   ]
  },
  {
   "cell_type": "code",
   "execution_count": 40,
   "metadata": {
    "collapsed": false
   },
   "outputs": [
    {
     "data": {
      "text/plain": [
       "fatpeoplehate          251\n",
       "AskReddit              214\n",
       "fatlogic               207\n",
       "relationships           74\n",
       "TwoXChromosomes         32\n",
       "WTF                     30\n",
       "raisedbynarcissists     26\n",
       "Fitness                 25\n",
       "AskWomen                24\n",
       "loseit                  24\n",
       "Name: subreddit, dtype: int64"
      ]
     },
     "execution_count": 40,
     "metadata": {},
     "output_type": "execute_result"
    }
   ],
   "source": [
    "# most common subreddits posted to\n",
    "anorexiaSubreddits[\"subreddit\"].value_counts()[:10]"
   ]
  },
  {
   "cell_type": "markdown",
   "metadata": {},
   "source": [
    "- fatpeoplehate has been banned for violating subreddit rules: https://www.reddit.com/r/FatPeopleHate"
   ]
  },
  {
   "cell_type": "code",
   "execution_count": 53,
   "metadata": {
    "collapsed": false
   },
   "outputs": [],
   "source": [
    "# most common subreddits authors\n",
    "#anorexiaSubreddits[\"author\"].value_counts()[:10] --> commented out to anonymize data"
   ]
  },
  {
   "cell_type": "code",
   "execution_count": 18,
   "metadata": {
    "collapsed": true
   },
   "outputs": [],
   "source": [
    "# map author to body of text\n",
    "scoreDict = anorexiaSubreddits.set_index('author')['body'].to_dict()"
   ]
  },
  {
   "cell_type": "code",
   "execution_count": 68,
   "metadata": {
    "collapsed": false
   },
   "outputs": [],
   "source": [
    "#nltk.help.upenn_tagset()"
   ]
  },
  {
   "cell_type": "code",
   "execution_count": 60,
   "metadata": {
    "collapsed": false
   },
   "outputs": [
    {
     "name": "stdout",
     "output_type": "stream",
     "text": [
      "These are the most common words: [('even', 405), ('also', 399), ('really', 382), ('anorexia', 336), ('much', 327), ('fat', 323), ('mental', 278), ('healthy', 253), ('still', 247), ('good', 237), ('never', 235), ('better', 207), ('well', 198), ('actually', 187), ('many', 164), ('always', 154), ('long', 145), ('bad', 142), ('normal', 139), ('enough', 136), ('right', 135), ('probably', 134), ('back', 131), ('first', 130), ('little', 125), ('pretty', 122), ('hard', 118), ('thin', 117), ('different', 116), ('less', 115), ('eating', 112), ('sure', 111), ('best', 111), ('anorexic', 110), ('ever', 108), ('able', 105), ('last', 104), ('high', 99), ('weight', 96), ('maybe', 93), ('least', 92), ('skinny', 91), ('great', 90), ('often', 87), ('old', 85), ('unhealthy', 85), ('real', 81), ('physical', 80), ('medical', 79), ('underweight', 78), ('almost', 78), ('sometimes', 78), ('away', 77), ('serious', 75), ('wrong', 74), ('far', 73), ('obese', 73), ('likely', 73), ('big', 71), ('else', 70), ('happy', 68), ('diet', 68), ('definitely', 67), ('usually', 66), ('overweight', 65), ('instead', 64), ('due', 64), ('similar', 63), ('low', 62), ('whole', 62), ('full', 62), ('especially', 60), ('social', 60), ('possible', 58), ('small', 58), ('completely', 57), ('already', 55), ('however', 55), ('seriously', 55), ('certain', 54), ('rather', 52), ('worse', 52), ('important', 52), ('finally', 50), ('literally', 49), ('obviously', 49), ('severe', 49), ('common', 48), ('psychological', 48), ('human', 47), ('new', 47), ('nice', 45), ('absolutely', 45), ('yet', 45), ('true', 45), ('strong', 44), ('quite', 44), ('honestly', 44), ('gt', 43), ('self', 43), ('later', 42)] \n",
      "\n",
      "These are the most uncommon words: [('website', 1), ('coarse', 1), ('trustworthy', 1), ('gossip', 1), ('luirrvvely', 1), ('seventeenth', 1), ('polly', 1), ('holistic', 1), ('hindra', 1), ('anytime', 1), ('gigantic', 1), ('underl', 1), ('runaway', 1), ('ambivalent', 1), ('ekonomi', 1), ('tramatic', 1), ('ankle', 1), ('countless', 1), ('beliefs', 1), ('undeniable', 1), ('precise', 1), ('underfed', 1), ('remarkably', 1), ('dutch', 1), ('nailed', 1), ('nedic', 1), ('bite', 1), ('underwent', 1), ('nonoverweight', 1), ('fattest', 1), ('fiancees', 1), ('honoring', 1), ('avg', 1), ('crushingly', 1), ('bet', 1), ('thirst', 1), ('prenatal', 1), ('lively', 1), ('meaner', 1), ('eccentric', 1), ('moronic', 1), ('slept', 1), ('north', 1), ('impacted', 1), ('agonizing', 1), ('pressed', 1), ('anorexie', 1), ('fexaramine', 1), ('elegant', 1), ('bossiness', 1)] \n",
      "\n"
     ]
    }
   ],
   "source": [
    "# strip punctuation from all body comments\n",
    "bodyList = []\n",
    "for val in anorexiaSubreddits[\"body\"]:\n",
    "    val = re.sub(\"[^a-zA-Z]+\", \" \", val)\n",
    "    bodyList.append(val)\n",
    "\n",
    "# tokenize each work, using nltk_tokenize\n",
    "tokenList = []\n",
    "for sentence in bodyList:\n",
    "    tokens = nltk.word_tokenize(sentence)\n",
    "    tokenList.append(tokens)\n",
    "\n",
    "# add POS tags to words\n",
    "taggedList = []\n",
    "for item in tokenList:\n",
    "    item = pos_tag(item)\n",
    "    taggedList.append(item)\n",
    "    #taggedList.append([(word, map_tag('en-ptb', 'universal', tag)) for word, tag in pos_tag(item)])\n",
    "#print(taggedList)\n",
    "\n",
    "# choose the most relevant words to consider,\n",
    "# according to tags\n",
    "relevantList = []\n",
    "count = 0\n",
    "for i in taggedList:\n",
    "    for j in i:\n",
    "        #if j[1] == \"JJ\" or j[1] == \"JJR\" or j[1] == \"JJS\" or j[1] == \"NN\" or j[1] == \"RBR\" or j[1] == \"RBS\" or j[1] == \"RB\" or j[1] == \"VB\" or j[1] == \"VBD\" or j[1] == \"VBG\":\n",
    "        if j[1] == \"JJ\" or j[1] == \"JJR\" or j[1] == \"JJS\" or j[1] == \"RBR\" or j[1] == \"RBS\" or j[1] == \"RB\":\n",
    "            relevantList.append(j[0].lower()) # it seems as if adjectives and adverbs are the most telling\n",
    "            \n",
    "# remove stopwords\n",
    "finalList = [word for word in relevantList if word not in stopwords.words('english')]\n",
    "\n",
    "fdist = FreqDist(finalList)\n",
    "common = fdist.most_common()[0:101] # not including \"anorexia\"\n",
    "uncommon = list(reversed(fdist.most_common()))[:50]\n",
    "print(\"These are the most common words:\",common, \"\\n\")\n",
    "print(\"These are the most uncommon words:\", uncommon, \"\\n\")"
   ]
  },
  {
   "cell_type": "code",
   "execution_count": 65,
   "metadata": {
    "collapsed": false,
    "scrolled": false
   },
   "outputs": [
    {
     "name": "stdout",
     "output_type": "stream",
     "text": [
      "I was diagnosed by Anorexia bulimic subtype before I was diagnosed with Bipolar I I ate an apple a day and spent hours a day on the treadmill everyday or I wouldn t be able to sleep or concentrate on anything I had a hard time sticking to my Lithium regiment because I was so terrified of gaining weight Thankfully Lamictal does a pretty good job of quieting both my bipolar and eating disorder I ve been told that anorexia occurs pretty frequently along side bipolar because of the effect that starvation and overexercising has in stabilizing our moods not to mention creating a sense of control when we re stuck in shitty situations we can t escape from Also if you want to read a really good book having to do mostly about Bipolar but also EDs I d read Madness by Marya Hornbacher really good book but sad as well I was surprised by how much I could empathize with her it really helped me come to terms with my diagnosis and feel less alone \n",
      "\n",
      "I m glad You have posted this because I am having the same problem I ve always been petite but definitely in a healthy way I m and female and at my heaviest I think I made it to a junior s I never had an eating issue throughout high school I used to be very fit nothing but lean muscle At I had my son Xander baby weight dropped almost immediately but even then my appetite was normal Its been the past years I think I ve seen a change from just being petite to unhealthy skinny I just can t eat That s not to say I don t love food because I do I thought maybe it was because of my tastes even as a kid I was never into candy or real sweet and sugary things like birthday cake cinnamon rolls Never was a big pasta eater can t stand chocolate So in general I ve never delved into unhealthy cravings Cravings for me are things like granola nuts dried fruit and tons of meat I used to be able to eat steaks to myself no sides no sauce just meat meat meat iron deficiency I ve considered depression a reason for lack of appetite but even though things aren t perfect in my life they re not that bad either I own my condo my son is amazing my job sucks but it s not a strenuous one so I m unsure I m a tomboy so lack of eating to stay skinny to look good is not my forte so I was reluctant to call it anorexia nervosa Sometimes I gt stomach pains but even then after a few minutes they go away and by the time I ve decided to do something about it I m not hungry anymore I still go out to eat with friends and family almost always have to take boxes home When I do eat all my food I feel lethargic heavy but full but one large meal is enough to last me that whole day and the full next before I remember to eat Ive been trying to eat every couple hours some cashews here a half sandwhich there etc sometimes it works sometimes it doesn t I even went to smoking weed all last year At first it totally helped the munchies get pretty real but during the end of that reign even smoking out of the big bong wouldn t boost my appetite so I gave it up I know it s unhealthy because now I get sick easily I lose energy fast and paired with sleeping problems I m becoming a wreck Can t sleep can t eat sucks Can t tell if it s mental or physical Went to the hospital fainted not only was I dehydrated but I had such low potassium in my body that my heart began defibrillating Even wearing glasses I think my vision is getting worse \n",
      "\n",
      "I stuck with it for years I really wanted it to be true I really like sweet fruit but I also craved avocados so bad since my body needed fat and I would feel so incredibly guilty if I ate one plus I had trouble digesting fats and vegetables from weakening my digestion eating nothing but sweet fruit I absolutely did not lose weight but gained Ok wall of text no need to read but maybe others have had a similar experience I had severe stomach pains eating fruit meals When I was living in Thailand my stomach hurt more than ever melon belly as they call it eating all sweet fruits other than papaya dragon fruit and mangosteen I felt sick eating bananas I ve discovered I think that I m allergic to them stomach cramps mouth itch face flush no matter how ripe I eventually started eating some cooked foods for dinner low fat vegetables and rice because I couldn t find enough good papayas most of the available ones in the mountain village I was living in tasted like gross beer in the off season and mangosteen dragon fruit are very expensive The pain got so bad at one point I could only handle cucumbers which I dipped in honey lemon cayenne then even honey hurt yet my weight shot up lbs It was probably water weight and inflammation from sun poisoning and digestive issues but still It dropped to ish when I returned to the northeast USA but I was also restricting my intake and eating very little but all raw vegan I still maintained a chubbier physique than I liked no matter how clean I ate even when juice fasting on watered down grapefruit juice and managing to drop my weight the same it is now my body composition was different I wasn t fat or overweight just not as lean as I felt I should have been with eating almost nothing but fruit greens and super low fat My calories stayed around most days I m was around lbs most of the time then fairly active so I was eating at a deficit according to calculators Reducing my fruit consumption a bit and adding small amounts of animal products more fat got me to on average My calorie intake is about the same now usually between mostly fat moderate protein under g net carbs usually less activity level is increased but I ve gone back up to after having dropped to a month ago first month on keto this round Maybe muscle but I took two weeks off working out other than squats and yoga to see if it would drop but it didn t Interesting that I haven t lost much even gained weight recently while keeping a better body composition on keto than when I dropped to this same weight juice fasting I have the thigh gap didn t on fruit less belly fat lost an inch on my waist more on my hips and a smaller more perky butt from squatting more Would love the scale to drop again hoping for ish but I think my bmr is probably lower than calculated due to a long bout with anorexia and on off restricting after recovery throughout all my teens and early s so I have to eat a higher deficit My body temp is generally a little low and my bp is always pretty low I m trying to dispel the ED thoughts and behaviors so I m focusing on not restricting intake too much until my mindset is healthier \n",
      "\n",
      " Bad joints Not arthritis but an alignment issue in my hips of unknown origin A doctor has looked at me and my gait said there s something messed up you need to see an orthopedist I ve just never followed up What this boils down to is that I walk funny and running at all and walking distances of more than mile are painful I compensate by doing things like yoga when I can be arsed to exercise Meds that cause weight gain I ve been on a number over the years Some made me hungrier one made me sleep eat Chips and cookies were my sleeping snacks of choice but almost always carbs To be honest I started out taking those meds when I was recovering from anorexia At that point I could have put on lbs before the biggest shitlord doctor would have said put down the cake Even while not monitoring my intake and eating shit like frosted sugar cookies for breakfast I was putting on weight at a pretty slow clip less than lb a month I also stabilized on my own while still eating shit So on that one I wasn t really trying \n",
      "\n",
      "This is true but anorexia has a pretty specific requirements for diagnosis gt Persistent restriction of energy intake leading to significantly low body weight in context of what is minimally expected for age sex developmental trajectory and physical health gt Either an intense fear of gaining weight or of becoming fat or persistent behaviour that interferes with weight gain even though significantly low in weight gt Disturbance in the way one s body weight or shape is experienced undue influence of body shape and weight on self evaluation or persistent lack of recognition of the seriousness of the current low body weight I don t believe binge eating disorder followed by bouts of abstinence is called anorexia nor do I think it s treated like anorexia I m not an expert though \n",
      "\n",
      "I was diagnosed with anorexia nervosa when I was seventeen and was in and out of treatment until I was about twenty one I haven t been behavior symptom free for a solid two years since I was a teenager but those days are few now and I have maintained a healthy weight since my early twenties I m what they d call in recovery which is what I put on my health history forms both when applying to the Peace Corps and the previous organization with which I worked That being said I moved to Tanzania when I was twenty four and straddled the relapse line pretty hard for several months at the beginning due to homesickness lack of my support system and a change of diet That last one is HUGE particularly for folks who share most meals with a HCN as I did I went from having a familiar and safe meal plan to eating what felt like incessantly Everyone wanted to offer me food and it was considered rude to refuse their generosity Sometimes I ate multiple dinners a night I d encourage your friend to think about what her support system looks like What helps her stay on track in her recovery Will she still be able to access those things while serving in the Peace Corps What would she do if she did relapse and where how would she reach out There are some countries where eating disorders are a completely foreign concept so finding support could be difficult Most importantly why does she want to be in recovery Sometimes all you can hold on to is the wanting y know \n",
      "\n"
     ]
    }
   ],
   "source": [
    "# anecdotes containing the most common words\n",
    "listOfWords = [\"eating\", \"weight\", \"pretty\", \"weight\"]\n",
    "count = 0\n",
    "for sentence in bodyList:\n",
    "    if all(word in sentence for word in listOfWords):\n",
    "        if count <= 5:\n",
    "            print(sentence + \"\\n\")\n",
    "            count += 1"
   ]
  },
  {
   "cell_type": "code",
   "execution_count": 66,
   "metadata": {
    "collapsed": false
   },
   "outputs": [
    {
     "name": "stdout",
     "output_type": "stream",
     "text": [
      "779 : The yuppie, neo-hippie, ultra-liberals and their fear of GMO, preservatives and non-organic food. \n",
      "\n",
      "This is a completely uneducated opinion that I base off nothing but it seems like a money making scheme of bullshit. I mean, if you eat your fair share of veggies, avoid fried foods and cakes/cookies, stay around 1200 calories a day, exercise regularly and take vitamins I doubt your health will be suffering much because you ate a non organic carrot. \n",
      "\n",
      "EDIT: Apparently 1200 is anorexia. I got that number from a weight loss app. So yeah, 2000 calories or more if you are super tall, my bad.  \n",
      "\n",
      "418 : Wow. This is awful. Regardless of whether or not she will develop a clinical eating disorder, your husband is abusive, and damaging her self image when she's at an age that it's under attack by peers and the media.\n",
      "\n",
      "First thing I'd do is talk with her pediatrician. He or she can help you plan a strategy including medical and psychological (therapy) help for your daughter, and couples or family therapy for the two of you.  This is very serious business. People die from eating disorders. Between organ failure and suicide, Anorexia Nervosa is the most lethal of all mental illnesses. I have been involved with the eating disorder community for years, between my own recovery and my daughter's, and I know people who've died both ways. I know of even more suicide attempts. Last thing this world needs again is another light put out by this terrible illness.\n",
      "\n",
      "Next thing you have to do is talk with your husband, armed with information you get from your daughter's pediatrician.  Suggest that the two of you go to the recommended family/couples therapist. You also have to set boundaries and very clearly indicate what things are unacceptable for him to say, ever. He also needs to apologize to her and commit to never cross those boundaries again. Be with him when he apologizes, and offer your own apologies for not standing up sooner. \n",
      "\n",
      "If your husband were physically abusing your daughter, you would do whatever you needed to do to stop the abuse, wouldn't you? You need to be prepared to do that here too. If you have to leave him and take her with you, then that's what you have to do. Obviously, you don't want to start with this card, but you need to keep it in mind and play it if you must. \n",
      "\n",
      "edit: You might have assumed that I'm a mom, given that I had AN myself. I'm not. I'm a dad, and husband myself. Even my wife and I chose to do family/couples therapy ourselves, even though we both understood our daughter needed help, because this is hard. \n",
      "\n",
      "404 : I have anorexia. \n",
      "I think the most common misconception is that it is about being thin. I have honestly never met a person who developed an eating disorder because they wanted to look like some photoshopped model. For us, its about perfection and control, it just so happens that thinness is a trait that our society admires, which is why we strive to achieve it. At a certain point, you are intellectually aware that you are not attractive and dying, but this irrational little part of your brain won't let you eat because you're still too big. There is no such thing as \"small enough\", once the disease takes hold no amount of weight loss can satisfy. \n",
      "\n",
      "EDIT: Wow, I am loving all of the responses, and the discussion that we are having! If any of you have any questions about anything, please feel free to message me! \n",
      "\n",
      "392 : Oh, don't you know? Being fat isn't a result of diet and exercise level, it's all because of muh genetics and cundishuns. To say someone can lose weight is fatphobic, because diets are literally anorexia. In fact, not shoveling grease, salt, and sugar down your gaping hamplanet maw 24/7 is literally anorexia. Eat a sandwich and grow some luirrvvely cuhrves. \n",
      "\n",
      "336 : 1200 calories a day? \n",
      "That sounds like a fast route to anorexia. \n",
      "\n",
      "333 : Anorexia is not a body type it's a mental illness you fucking fat fucks \n",
      "\n",
      "280 : Theres this misconception that if only they lived 60 years ago, the media would be showing us regular female bodies as the height of beauty.\n",
      "\n",
      "These are also people who have not seen 1 second of any film released before 1980 because movie stars of yesteryear were still skinny as fuck.\n",
      "\n",
      "Oh look, it's [Katharine Hepburn](http://17rg073sukbm1lmjk9jrehb643.wpengine.netdna-cdn.com/wp-content/uploads/2014/04/kate.jpg) and [Audrey Hepburn](http://patymendlowicz.com/wp-content/uploads/2014/05/Audrey-Hepburn-audrey-hepburn-30174987-500-668.jpg). If either one of them were transported to today's media as their 25 year old selves, they'd be at risk of being accused of anorexia.\n",
      "\n",
      "Who is this? Oh! It's [Grace Kelly](http://en.ozonweb.com/wp-content/uploads/2013/10/grace-kelly11.jpg). You know, only one of the most famous Hollywood starlets of all time?\n",
      "\n",
      "Most of these stupid idiots will point to Marylin Monroe as the greatest example of old fashioned beauty, except they only ever seem to be aware of pictures like [this](https://d2ia58550xamqo.cloudfront.net/a0ed303646fd47b2b4bea91209a6e066.jpg) where she's got curves. They seem to be completely oblivious to Marylin's other [shape](https://s-media-cache-ak0.pinimg.com/736x/73/7f/b6/737fb61965173db9131a26119f1ebe97.jpg). You know, the shape she was in at the height of her fame? \n",
      "\n",
      "235 : Oh yeah, the 1920s are a HUGE exception to the \"curvier\" women in the past (which is in itself kind of an overestimation; most clothing patterns are for overbust measurements from 30\"-38\"). Women wore corsets to get the flattest, most boyish figure; I've read allusions to women having basically anorexia in magazines of the time; and smoking was advertised as a means of weight loss. \n",
      "\n",
      "The curves start to come back in the 1930s, but if you were a women in the 1920s you wanted to look like a twelve year old boy. \n",
      "\n",
      "224 : One girl was feeling really strange and went to the doctor. She was feeling really weak and had trouble breathing. Turns out she had refeeding syndrome and had cardiac arrest while in the hospital.\n",
      "\n",
      "She was transferred to my treatment center for anorexia. That is where I met her. She tried to start eating on her own after years of restricting. Didn't work out too well.\n",
      "\n",
      "Edit: I was a patient there. When I first came to this thread there was not a lot of response, so I added my experience so OP could get a response.  \n",
      "\n",
      "221 : I dont get why they call any slim woman disgusting and anorexic.  Have they ever actually seen someone suffering from severe anorexia before? \n",
      "\n",
      "---------------------------------------------------------------------------------------------------------------------\n",
      "-34 : I think if we come down hard on the fatties we should treat the anorexia sufferers the same. Both have body distortion and self control issues as well as a failure to see the reality they created themselves. \n",
      "\n",
      "-28 : This is not healthy. This girl has next to no muscle or fat on her at all. This is just one step above how the girls receiving treatment for anorexia look\n",
      "\n",
      "Edit: downvotes for agreeing that the girl is too thin. Mind boggling the support here for being unhealthy \n",
      "\n",
      "-18 : It's still a body type. When someone is anorexic, you can pretty much tell just by the way they look (Way underweight, sick looking, slow, etc).\n",
      "\n",
      "We aren't fatties here who say you can't judge someone's health by looking at them. Yes you can. An anorexic has a specific body type, so even though anorexia is a mental illness, it's also safe to use it as a body type.\n",
      "\n",
      "Either way, the chick in the picture is not even remotely anorexic. \n",
      "\n",
      "-17 : As a 'curvy' former fattie I gotta say that song is so annoying that it makes me wish I had anorexia.  \n",
      "\n",
      "-12 : Bullying, verbal and physical, can lead to depression, self-harm, and, in cases of this subject, eating disorders. I know you guys would probably prefer someone to suffer from anorexia than be fat, but imagine if this happened in a high school instead of with adults. Also, why should anyone have the right to come up to a stranger and poor a liquid on them. Fat or not if someone did that to me it wouldn't motivate me to do what they want, I'd get up and punch the shit out of them. Clearly that lady had self-esteem issues anyways if her response to some dickshit pouring a beverage on her was \"I should do what he says\" \n",
      "\n",
      "-11 : anorexia is a mental illness, it's not a choice \n",
      "\n",
      "-10 : These are hypothetis, some are far fetched some are not. The \"female brain\" and the \"male brain\" don't exist as far as we know. \n",
      "\n",
      "\n",
      "&gt;A brain that grows under conditions typical to a female fetus will be wired to expect a corresponding external form\n",
      "\n",
      "\n",
      "This is baseless. We don't know at all why some peoples are transgender, maybe this explaination is true, but I think it's moslty tailor made to appease conservatives (like \"born this way\" for gays). \n",
      "\n",
      "\n",
      "Most likely, it's another body dismorphya like anorexia. \n",
      "\n",
      "-8 : What helped me the greatest in losing 40lbs from 180 to 140 was depression and anorexia. Now some people say that this can lead to a risky road of suicide but thats where a pre-planned family intervention comes into play.  \n",
      "\n",
      "-7 : Whenever I see an anorexic, I always wonder what is the best way to explain to them that they need to work out to get their ideal body.\n",
      "\n",
      "I know many are in a negative feedback loop. They want to get skinny and look god, but the body goes into a catabolic state, eating away expensive muscle and trying to preserve what little fat is left. So when an anorexic feels their body, they still feel that fat (skinny fat), and continue trying to restrict calories to lose the fat.\n",
      "\n",
      "Like I know anorexics want to look sexy but they can't just get their. How do you explain to them, the solution to anorexia isn't to eat more and get chubby (like I've seen most anorexics. It seems like the therapy they go through is body acceptance, which just leads to fat gain), but to work out, and get healthy? \n",
      "\n",
      "-6 : Okay, that was a LITTLE rough, but him accusing me that I told him to kill himself is just pure cat shit.\n",
      "P.S its called anger.\n",
      "Plus, peasants don't know the word anorexia and bulimia. \n",
      "\n"
     ]
    }
   ],
   "source": [
    "scoreDict = anorexiaSubreddits.set_index('score')['body'].to_dict()\n",
    "\n",
    "topScoreCount = 0\n",
    "for score, body in sorted(scoreDict.items(),reverse = True):\n",
    "    if topScoreCount != 10:\n",
    "        print(score, \":\" ,body, \"\\n\")\n",
    "        topScoreCount += 1\n",
    "print (\"---------------------------------------------------------------------------------------------------------------------\")        \n",
    "bottomScoreCount = 0\n",
    "for score, body in sorted(scoreDict.items()):\n",
    "    if bottomScoreCount != 10:\n",
    "        print(score, \":\" ,body, \"\\n\")\n",
    "        bottomScoreCount += 1"
   ]
  },
  {
   "cell_type": "markdown",
   "metadata": {},
   "source": [
    "# Analysis on Obesity-Related Subreddits"
   ]
  },
  {
   "cell_type": "code",
   "execution_count": 67,
   "metadata": {
    "collapsed": false
   },
   "outputs": [
    {
     "data": {
      "text/html": [
       "<div>\n",
       "<table border=\"1\" class=\"dataframe\">\n",
       "  <thead>\n",
       "    <tr style=\"text-align: right;\">\n",
       "      <th></th>\n",
       "      <th>author</th>\n",
       "      <th>body</th>\n",
       "      <th>subreddit</th>\n",
       "      <th>subreddit_id</th>\n",
       "      <th>score</th>\n",
       "      <th>hashedAuthors</th>\n",
       "    </tr>\n",
       "  </thead>\n",
       "  <tbody>\n",
       "    <tr>\n",
       "      <th>0</th>\n",
       "      <td>PrimeMinisterOwl</td>\n",
       "      <td>I'M pissed that the dancing girl fat girl got ...</td>\n",
       "      <td>RagenChastain</td>\n",
       "      <td>t5_323a3</td>\n",
       "      <td>4.0</td>\n",
       "      <td>d9ccb6eaa68d1b3ea3dd432e48c6bfff</td>\n",
       "    </tr>\n",
       "    <tr>\n",
       "      <th>1</th>\n",
       "      <td>casiells</td>\n",
       "      <td>Well..when someone is obese its obvious when y...</td>\n",
       "      <td>TumblrInAction</td>\n",
       "      <td>t5_2vizz</td>\n",
       "      <td>1.0</td>\n",
       "      <td>24654918653efa65253028b1a8474c61</td>\n",
       "    </tr>\n",
       "    <tr>\n",
       "      <th>2</th>\n",
       "      <td>MetricLemur</td>\n",
       "      <td>For the last 100,000 years of humanity obesity...</td>\n",
       "      <td>sex</td>\n",
       "      <td>t5_2qh3p</td>\n",
       "      <td>5.0</td>\n",
       "      <td>f259124ebfbfa451037cfe9639ca73c6</td>\n",
       "    </tr>\n",
       "    <tr>\n",
       "      <th>3</th>\n",
       "      <td>Unbearable_facts</td>\n",
       "      <td>The EU courts now says that obesity is a disab...</td>\n",
       "      <td>videos</td>\n",
       "      <td>t5_2qh1e</td>\n",
       "      <td>1.0</td>\n",
       "      <td>e4ed7d00769cb2ecc997d94c60d5dcd3</td>\n",
       "    </tr>\n",
       "    <tr>\n",
       "      <th>4</th>\n",
       "      <td>skippyjohnjameson</td>\n",
       "      <td>Its amazing how obesity ages people. She looks...</td>\n",
       "      <td>fatpeoplehate</td>\n",
       "      <td>t5_2x9xz</td>\n",
       "      <td>2.0</td>\n",
       "      <td>9bffc299b5a7a7f8980c28564ca12687</td>\n",
       "    </tr>\n",
       "  </tbody>\n",
       "</table>\n",
       "</div>"
      ],
      "text/plain": [
       "              author                                               body  \\\n",
       "0   PrimeMinisterOwl  I'M pissed that the dancing girl fat girl got ...   \n",
       "1           casiells  Well..when someone is obese its obvious when y...   \n",
       "2        MetricLemur  For the last 100,000 years of humanity obesity...   \n",
       "3   Unbearable_facts  The EU courts now says that obesity is a disab...   \n",
       "4  skippyjohnjameson  Its amazing how obesity ages people. She looks...   \n",
       "\n",
       "        subreddit subreddit_id  score                     hashedAuthors  \n",
       "0   RagenChastain     t5_323a3    4.0  d9ccb6eaa68d1b3ea3dd432e48c6bfff  \n",
       "1  TumblrInAction     t5_2vizz    1.0  24654918653efa65253028b1a8474c61  \n",
       "2             sex     t5_2qh3p    5.0  f259124ebfbfa451037cfe9639ca73c6  \n",
       "3          videos     t5_2qh1e    1.0  e4ed7d00769cb2ecc997d94c60d5dcd3  \n",
       "4   fatpeoplehate     t5_2x9xz    2.0  9bffc299b5a7a7f8980c28564ca12687  "
      ]
     },
     "execution_count": 67,
     "metadata": {},
     "output_type": "execute_result"
    }
   ],
   "source": [
    "obesitySubreddits.head(5)"
   ]
  },
  {
   "cell_type": "code",
   "execution_count": 4,
   "metadata": {
    "collapsed": false
   },
   "outputs": [
    {
     "data": {
      "text/plain": [
       "fatpeoplehate     1055\n",
       "AskReddit         1041\n",
       "fatlogic           953\n",
       "funny              191\n",
       "todayilearned      165\n",
       "science            152\n",
       "WTF                142\n",
       "worldnews          130\n",
       "Fitness            129\n",
       "TumblrInAction     128\n",
       "Name: subreddit, dtype: int64"
      ]
     },
     "execution_count": 4,
     "metadata": {},
     "output_type": "execute_result"
    }
   ],
   "source": [
    "# most common subreddits posted to\n",
    "obesitySubreddits[\"subreddit\"].value_counts()[:10]"
   ]
  },
  {
   "cell_type": "code",
   "execution_count": 5,
   "metadata": {
    "collapsed": false
   },
   "outputs": [
    {
     "data": {
      "text/plain": [
       "leelem0n            47\n",
       "Acolyte_of_Swole    35\n",
       "pairyhenis          29\n",
       "maybesaydie         20\n",
       "tahlyn              18\n",
       "MeMyselfAndI1974    17\n",
       "lnfinity            15\n",
       "mizmoose            14\n",
       "brazil84            14\n",
       "xveganrox           14\n",
       "Name: author, dtype: int64"
      ]
     },
     "execution_count": 5,
     "metadata": {},
     "output_type": "execute_result"
    }
   ],
   "source": [
    "# most common subreddits authors\n",
    "obesitySubreddits[\"author\"].value_counts()[:10]"
   ]
  },
  {
   "cell_type": "code",
   "execution_count": 6,
   "metadata": {
    "collapsed": true
   },
   "outputs": [],
   "source": [
    "scoreDict = obesitySubreddits.set_index('author')['body'].to_dict()"
   ]
  },
  {
   "cell_type": "code",
   "execution_count": 7,
   "metadata": {
    "collapsed": false
   },
   "outputs": [
    {
     "name": "stdout",
     "output_type": "stream",
     "text": [
      "[('people', 6089), ('fat', 4348), ('like', 3137), ('weight', 2756), ('gt', 2313), ('food', 2104), ('would', 2096), ('think', 1966), ('obese', 1949), ('one', 1914), ('health', 1885), ('get', 1825), ('http', 1703), ('also', 1553), ('even', 1547), ('much', 1495), ('healthy', 1469), ('eat', 1383), ('make', 1376), ('body', 1330)]\n",
      "[('leaked', 1), ('chokling', 1), ('tenfold', 1), ('transgenic', 1), ('lamp', 1), ('blitzcrank', 1), ('bowlegged', 1), ('esporte', 1), ('kost', 1), ('wellbutrin', 1), ('uwu', 1), ('merican', 1), ('frak', 1), ('mordern', 1), ('ballooning', 1), ('grassy', 1), ('usd', 1), ('ks', 1), ('allen', 1), ('cpsc', 1)]\n"
     ]
    }
   ],
   "source": [
    "bodyList = []\n",
    "for val in obesitySubreddits[\"body\"]:\n",
    "    val = re.sub(\"[^a-zA-Z]+\", \" \", val)\n",
    "    bodyList.append(val)\n",
    "\n",
    "tokenList = []\n",
    "for sentence in bodyList:\n",
    "    tokens = nltk.word_tokenize(sentence)\n",
    "    tokenList.append(tokens)\n",
    "lowerCaseList = [item.lower() for sublist in tokenList for item in sublist]\n",
    "finalList = [word for word in lowerCaseList if word not in stopwords.words('english')]\n",
    "\n",
    "fdist = FreqDist(finalList)\n",
    "common = fdist.most_common()[1:21] # not including \"obesity\"\n",
    "uncommon = list(reversed(fdist.most_common()))[:20]\n",
    "print(common)\n",
    "print(uncommon)"
   ]
  },
  {
   "cell_type": "code",
   "execution_count": 9,
   "metadata": {
    "collapsed": false
   },
   "outputs": [
    {
     "name": "stdout",
     "output_type": "stream",
     "text": [
      "I was lbs for most of my teenage early adulthood life I was lbs overweight Even when I was fat I hated fatties I hated myself because I knew how fucking pathetic I was I m down lbs now hoping to do a full lbs drop by late spring Now that I m the weight of a normal fucking human being I hate fatties even more They give me an unhealthy amount of rage The ones that bother me the most though are people are are maybe lbs overweight rocketing for obesity I work retail so I get hundreds of people a day and I can tell you that there is a heavy fucking positive correlation between the amount of crap food in the cart and the persons weight That and obese children I saw a morbidly obese toddler last month poor thing must have weighed close to lbs She was a waddling glob looking more like a supernatural monster than a human I had to excuse myself to the back and cried with utter rage at how her parents were ruining her fucking life before it even began I hate them more because I know becoming normal is only hard at the beginning You hit this wall of stress and cravings and then it shatters and being healthy is the new normal \n",
      "\n",
      "I am a year old man and I have been fat since I was around There are various reasons why I got fat at that age but it would be boring to say all of them The basic thing you need to understand was it was a lot of bad decisions on my part combined with my parents going through a messy and unexpected divorce a series of custody hearings that was more about my dad wanting to take us away from mom then finding what was best for us and other stress So I ate Plus at the time and for a few years afterward my dad had custody and he had no idea how to feed kids So me eating constantly for that summer was A OK in his eyes Even if that meant eating most of a pizza I was supposed to share w my younger brother but he got full There is a lot of stuff I can t really explain with words Like what it feels like to walk out of fifth grade as an average kid and walk into sixth grade where the main topic of conversation is how fat Lomaswesler got over the summer Or the first time you look in the mirror and realize that they are right and you did get fat As a guy I never got much teasing other then that first year I ve noticed this difference my girlfriend who also is fat always talks about the weird looks and pointed comments but I either didn t notice them or they didn t happen Because of this especially as a kid I never really got motivated to lose weight I know it s not a popular opinion but I think one of the reasons obesity is on the rise is because people seem scared to even mention it Like I wish someone I cared for my brother Best friend Parents had told me Yo Lomaswesler you are a fatass Though the kids commented on my weight gain it never was negative it was always just mentioning it or making a joke about it You want to know the worst part It s psychological man I didn t just gain weight that summer looking at pictures while at the time looking in that mirror I thought I was obese an ugly fatass who nobody would ever care for I had became chubby Nothing more nothing less My belly hung a bit over my jeans but that was mostly because I was scared to ask for new pants because they didn t fit my chest was no longer flat but I had yet to grow defined manboobs It s the psychological toll it takes on you that fucks you up I remember going from stress eating to eating just because why not Looking back I had fucked up my metabolism and taught myself to ignore when I was full Why should I care I was fat already eating another slice of pizza wouldn t hurt I would bring a bag of skittles into my homeroom class devour lunch ASAP so I could spend money on the vending machines and then going to McDonalds Taco Bell etc after school to buy a large Coke and as much as I afford I m not telling you this because I love retelling how I done fucked up but because this is the psychological impact it can have on you I knew this wasn t good my damn friends would tell me it wasn t good But I still did it Who cares By freshman year of highschool I was fat Good old fashioned fat I was still in denial a stage I started short after acceptance I remember going to the doctor and seeing lbs pop up on the scale I was fat lbs couldn t be right that was heavier then my dad Only truly obese people are pounds No there must be something wrong with the scale I couldn t be over pounds Of course there was nothing wrong with the scale If you looked at pictures of me in freshman year you would know I was obese And I knew it I no longer took off my shirt to swim or changed in public locker rooms If I had to change I had to go back to my house back to my room I didn t even sleep with my shirt off for fear my brother or mother would come in and realize what a fatass I was not that they didn t already know You know sometimes it is hard for your mind to figure out just how fat you are I remember searching for pictures of fat year old boy and comparing myself to them as a year old because I wanted some validation that I was not as fat as I thought I was You search for some sort of validation some reason it is okay that you are going to eat that last twinkie I wish I could say I took the hint slimmed down and lost weight That frashman year was definitely one of those times where I could have gone either way and almost did I actually got up off my ass and got onto the football team and I remember losing pounds and celebrating by rushing off to Wendy s and gorging myself like it was thanksgiving But by halfway through the year I had discovered that I liked the taste of shitty beer more then the seemingly endless football workouts and I was getting tired of being the big freshman we put in the front to stand there on the field I found excuses to not go to winter workout sessions and eventually quit all together And fat me came back with a vengeance Its like a disease you have to be really dedicated to stopping its spread before you make progress I spent a semester eating eating eating By the summer I could no longer deny that I was some fatass motherfucker I was fat But I didn t care That summer I also started to notice the looks I was no longer on the range of normal I was obese and no matter whether I kept my shirt on people could see When we went on our annual trip to the beach my year old brother purposefully stayed away from me like he was scared people would put two and two together and realize that fatass was the skinny kid s big brother When we went for icecream the server looked at me twice if I ordered a large sunday If we went for fast food I was always the person the guy behind the cash register asked Will that will be all It was always my intention to go back to football my sophomore year I felt like it was something I was good at and something I felt like I was valued for The coach had even encouraged me to try out again when I quit And then I went to tryouts I honestly didn t think I was pounds That would mean I had gained pounds in maybe months You can t do that right But the coach took one look at me pulled me aside and told me that I m sorry but I think you might just be too big to put out there and I honestly don t know if you are healthy enough to go out there I remember the exact words and I remember rushing home and stepping on that scale pounds I also remember the aches the shortness of breathe the lack of stamina Coach was right I was not healthy enough to go out on that field but at the time I didn t think that way All these symptoms would only get worse And I downed my worries the only way I new how a couple burgers refill soda and then meeting up with friends in the woods to chug beer until I blacked out At this point that took a lot of shitty beer Let me tell you about fat people friends By this point most of my friends were fat or at the very least chubby and highly unathletic Our main hobbies were eating and getting drunk I was the only smart one there but I also was the fattest so I would say it was a wash You tend to hang with people just like you when you are fat I deluded myself by always comparing myself to my friends and compared to them I wasn t so bad Or well it was easier to say I wasn t so damn bad Also that year I got my first girlfriend Megan who was quite fittingly the fattest girl at school I wasn t attracted to Megan but you learn to accept compromise when you are a sophomore pushing pounds of fat I remember lying on my bed fooling around and trying to envision her as a model As a skinny girl I was attracted to while being disgusted at the same time by the fat girl in my bed You learn to settle My life just spiraled at this point I struggled in school where I used to get all As My dad tried to get back involved in my life before deciding he only wanted to visit with my slender brother I ate more and more I remember my brother getting an Xbox for Christmas and me getting an exorcise bike I ate some more I remember junior year pleading with my mom to not take me to the doctors I remember when popped up on the scale I remember my brother bringing his first boyfriend home and telling me to stay in my room or better yet Go get drunker and fatter then you already are I remember visiting my grandma and eating the whole pizza she had ordered and then asking if there was more I remember Megan breaking up with me because I was a fat disgusting slob I remember smoking weed for the first time I remember the massive munchies afterwards Is it bad that I think fonder thoughts of the munchies then the weed And then I remember senior year I remember the on the scale Megan coming in after losing pounds over the summer The cheap alcohol I chugged alone in the forest after ditching school The constant pain I was in the struggle to walk even the shortest distances The looks The comments My brother s friends cornering me and tormenting me as he watched My brother s boyfriend constantly leaving dieting books around the house where I could find them My brother telling his boyfriend that He will never lose weight he s just here and I m just waiting for him to die I remember lying on my bed at night and my brother coming in and crying telling me that he is just scared that I m dying That he misses when we were kids and would play in the pool when I could walk up stairs without looking like I was going to die I remember pushing him away I remember hitting him when he tried to come back and comfort me I remember sitting in the back of a cop car and barely fitting I remember thinking that I should not have chugged those beers I remember my mom I remember telling her I loved her I remember her pushing me away I remember trying to find a rope to kill myself \n",
      "\n",
      " gt If someone thinks life is worth living because of how much unhealthy food they can eat fine Apparently it s not fine because you see them as worthless lazy pieces of shit If you really didn t care you wouldn t spend all this time trying to convince people that fat people deserve to be shamed gt People drink they smoke they do whatever but when you re carrying a whole extra person worth of body weight on your body you make very poor choices and those choices affect how I view you as a person Why are over drinking and smoking not big on your radar There are just as unhealthy as being obese and often lead to other peoples suffering unlike obesity There s no r SmokerLogic or r AlcoholicHate \n",
      "\n",
      "This is based on being really damn fat hereby abbreviated to RDF Not just kind of heavy above average curvy can lose a few points I m talking about being unhealthily morbidly obese and on losing the weight to the point of being merely overweight WHILE RDF Life isn t really designed for you I never got to the point of not being physically able to sit in a chair but I did get to the point where sitting in most public chairs was uncomfortable and awkward The sides dig into your thighs the back doesn t support your back You feel as though you re almost poured into the chair Molded seats on buses don t quite hold your ass and so you hope to god the bus doesn t get full because no one will sit by you and you feel terrible for taking up so much space Flopping onto your own furniture repeatedly threatens to break it You find yourself being overly careful self conscious and apologizing for your own existence and physical presence Shopping sucks Tasteful Flattering Stylish Reasonably priced Fits You will almost never find anything that fulfills more than two of these Everything has sequins or prints or cap sleeves or tapered legs or costs an arm and a leg You end up doing a lot of your shopping online and then it s kind of Russian Roulette Fat people are not accepted People are generally nice to your face because we re a civilized society But going online or overhearing things you find out that people are constantly judging you making assumptions about you or outright talking shit It wears you down It makes you not trust people And I mean I didn t want people to think I m hot or attractive or healthy I just wanted people to treat me like a fellow human being I shouldn t have to change my physical attributes for that it should be a fucking given LEAVING RDF Everyone wants to go out to eat all the time and you can t At least I couldn t not for the first few months It was too tempting And even after that it took planning Generally anything that isn t a chain is unlikely to have nutrition information available and guessing is only a very rough estimate Eating homemade food is even harder Everyone still invites you to do it though because food is a part of being social They re being polite Unhelpful but polite It takes ages and kind of sucks The worst part is when you start you re eating like a thin person but you re still fat Except no one can tell that you re doing this because weight loss takes time And people you ve just met can t tell that you ve just lost weight If you go from gt they don t see someone who s lost th of their body weight they just see someone who weighs pounds You get all of the assumptions but without even the consolation of being able to drown your sorrows in a bag of chips AFTER RDF Everyone treats you differently Being considered essentially sexless by others was my norm Once people started hitting on me it was awful It felt really objectifying and predatory even when it wasn t And it wasn t just hitting on people were much chattier and nicer Except you know I was still the same person so it just felt surreal and fake And your body image is still a huge one to boot so it feels especially weird You don t really know how to deal with all these people OVERALL It s a house of damn cards unless the underlying reason for the obesity is treated This is the biggest point People assume that it s just you diet you get thinner you stay thinner Maybe it s a couple of years of hard work but you do it and it s all cool Not so much I lost about half my body weight Then I went to graduate school and all the old habits came back under the resulting stress and anxiety and depression Because ultimately I hadn t learned how to be healthy I d just learned how to eat properly when I didn t have to focus on anything else So now I m losing the weight again Except I m also doing therapy and treating the underlying mental illness that has arguably caused exacerbated my weight issues It s kind of like treating alcoholism too the tendency to overeat eat crap is always going to be there Except that I still have to eat because I still have to live And the damage is always visible to anyone who even glances at me even if I ve been sober for months What would I ask people to take away from this Don t be a jerk You don t know the person you don t know their circumstances Maybe they really are the horrible cartoon you think they are or maybe they re a generally awesome human being with one critical flaw Just be decent Treat them and me like you d treat anyone else \n",
      "\n",
      "It s absolutely not about societal pressure to be thin for me I m going to give a long background story so you can see how the ED is a new manifestation of lifelong issues Okay so I grew up overweight and became obese in young adulthood I was teased for plenty of things growing up but my weight wasn t one of them Overweight and obesity rates are exceptionally high in the area I grew up in and many of the most popular girls in my school were overweight I didn t hate my body really I hated that I felt completely controlled by food and I hated that I would wake up in the middle of the night and eat the pantry I felt helpless against food It was a coping mechanism I was taught by my family and peers growing up and I used it a lot As I got older the fact that I am severely mentally ill became more and more apparent I kept it a secret because I was very intelligent top of my class destined for great things I was embarrassed so nobody knew Inside though I wanted to die I went through periods of incredible obsession with a specific thing and feeling controlled by having to do certain things I was obsessed with the idea of people breaking and entering so every night I went through an elaborate ritual of checking windows doors stacking cans full of marbles by my door that would wake me up if someone entered For a while I was obsessed with my skin imperfections I would spend hours picking and digging to get any bumps out Of course this made it worse but I couldn t stop doing it I felt like I HAD to I was incredibly depressed through high school and compulsively injured myself on a daily basis I hoarded things usually paperwork because I was afraid I would lose something really important if I threw anything away Sometimes I got so so angry for no reason at all that I would get violent I didn t understand it and I was deeply ashamed of things I said and did when I was in a rage But eating was always a relief whether I was depressed or angry or trying to stop tearing my skin off or whatever I went to college and immediately became more depressed It wasn t what I thought it would be I didn t have my parents support and I ended up being hospitalized a few times for severe self injury wounds The school told me I was a disruption to other students quality of life and if I was going to keep hurting myself I had to leave I didn t want to leave so I started smoking pot Pot calmed everything down I could ignore compulsions and obsessions and it made eating even more amazing I got really fat really fast If I was stressed out I would just smoke pot order enough takeout for people and study while eating I did really well in school at this time but I wasn t dealing with the fact that I had all these issues inside my head I was just covering them up with pot and food I stopped smoking when I moved to an apartment next to someone who liked calling the cops a lot when i smoked I turned and just replaced the pot with alcohol Shit went downhill fast I knew within a week of having my first drink that I was an alcoholic but I couldn t stop I became suicidal again and couldn t bear to face reality anymore I just drank to fall asleep every time I was conscious I gained even more weight Became obese Dropped out of college and went to a psychiatric hospital because it seemed like my only choice I was either going to kill myself or admit myself and I did the latter I got better for a while I went back to school part time I decided after I got out that I wanted to lose a little weight and get active again because the doctors talked a lot about how exercise and healthy eating would stabilize my moods provide a healthy outlet for my anger and stress and maybe if I lost a little weight I would have better self esteem I did it healthily but the obsession started creeping back in toward the end I went from ish lb to lb it started getting bad around lb I honestly didn t even notice how bad it had gotten I spent all day every day calculating weighing manipulating calories and macros to have the perfect diet I calculated exactly how much I needed to eat and how much I needed to exercise to lose an exact amount of weight I made charts and graphs of my weight loss I thought that if I wasn t super precise about it I wouldn t lose weight like I wanted I stopped eating at restaurants without nutrition information Then I stopped eating at restaurants altogether I refused to eat anything that I didn t deem clean Toward the end I made sure to exercise off every calorie I consumed It was just a new target of my old OCD behavior At Thanksgiving that year I was probably down to around I told myself I was going to lay off the counting just for one day and eat what I wanted So I did I ate and ate and ate and ate It felt so good I missed doing this I missed eating whatever I wanted It was so calming I ate probably desserts I had a panic attack though and started trying to calculate calories how much weight I was going to gain how many days I would have to cut down on to even it out I was freaking out because I broke all my rules and now terrible consequences were going to happen I made a terrible excuse for leaving early drive to the nearest gas station and threw up in the bathroom Instant relief It felt kind of good I was buzzed with endorphins like when I used to cut myself Made me numb for a while Again shit went downhill fast I proceeded to swing wildly back and forth between engaging with the food OCD behavior and breaking down and binging and purging I got addicted to the binging and purging like I did with self injury alcohol and weed The more I did it the more ashamed I became of my behavior and it started translating to horrible body dysmorphia I spent hours in front of the mirror examining every part of my body measuring myself weighing myself I seemed to get bigger and bigger in the mirror I purged too often and lost my gag reflex In desperation I willingly relapsed with alcohol to make purging easier Became dependent again The impossible choice appeared yet again die or go to the hospital Went to the hospital I spent months in a psychiatric hospital this time around At this point I m diagnosed with major depressive disorder multiple episodes severe eating disorder not otherwise specified obsessive compulsive disorder my hoarding skin picking and body dysmorphia fall under this umbrella as well and addiction disorder The ED is a new manifestation of old OCD and addiction behaviors It had absolutely nothing to do with feeling pressured to be thin It had absolutely nothing to do with wanting to look like a supermodel It had everything to do with the insidious nature of my mental illnesses It starts innocently enough but it spirals out of control incredibly quickly and I end up in a place of feeling absolutely wildly out of control of myself my behavior and my future It could have been anything and it has been a lot of different things hoarding self injury alcohol food germs whatever This time it chose food and exercise So yeah it s my mental illness It s not society It was a pre existing condition Edit oh and I m doing really well now I ve been out of the hospital for a long time I live with my parents again now and I m looking to return to school next August It took a lot of stops and starts for all of us to realize that I m unable to live alone and living with my parents again has been a massive help They definitely keep me on track I m struggling with some health issues right now that make maintaining my weight a bit difficult but I ve come to a good place of balance with my food and exercise in general My symptoms are well controlled at this point \n",
      "\n",
      " EDIT This is not my post Stop asking why I hate fat people Stop asking if I m fat I made copy pasta because tumbrlinas suck at web design gahhh Version that normal people can read I am so fucking sick of hearing about fat acceptance I have the hugest rant prepared First I wanna start this rant off by saying I am entitled to my own opinion and nothing can change my opinion on this matter so there s no use trying to argue with me I have been chubby ALMOST my whole life I was skinny as a kid mom would always brag to her friends about it I ballooned up around th grade I was still active then but I ate terribly and I had a really young mom that honestly didnt know what she was doing with herself let alone her child I played basketball ran track played soccer and did karate sports I still gained weight because I ate like absolute shit I remember when I was in th grade I was and and I wanted to be My mom was so anti fat but so uneducated so she spent the next years of my life calling me everyname under the book physically abusing me because I kept gaining weight was a snot didn t do my chores I wont go into detail but I definitely have severe PTSD from the things she did to me For example she once poured dirty cat litter on me then filmed me crying while telling me I sound like a whale in distress I kept gaining weight of course I stopped doing sports not because I didnt want to but because my mom got pregnant and someone had to take care of her I was when she had my little brother but it looked as if I had had him with all the weight I had gained In th grade I was lbs I was NOT happy but food gave me an escape for a little bit and I truly did have an eating disorder I binged at first thousands of calories sometimes even tens of thousands Mom would beat me for eating the food but I didnt stop Mom kept calling me everything under the book She gained pounds after getting pregnant and lost it all within a year She got depressed and left my brother and I alone for sometimes months I got into drugs and ended up dropping out of school and choosing to go to military school I wanted to improve for my brother who I had gotten awfully close to all those years mom was out being crazy In military school mom finally had to take responsibility for her son and I was gone for months I did workout in military school but we were required heavy duty meals because they didn t wanna get sued for underfeeding us I gained muscle yes I was able to do pull ups at the end of my time there but I was still pounds and not even close to being healthy I am telling you all this about my past because I see countless excuses in the fat acceptance tag I gained all my weight back in high school every year making a plan that this would be the year I m gonna lose the weight I even got my best friend to lose pounds but I stayed the same I ve used every excuse in the book In the beginning of THIS year I started discovering body acceptace fat acceptance etc I was into it at first because I wanted to truly believe myself when I said Wow I wanna love my body teehhee My body is great It felt good getting all that attention at first There were even some cute creepy guys that wanted to see my fat rolls and my big thighs Finally I was getting love from people I never got when I was younger via the internet Then I started going on chan I found myself in the fit section everyday I ditched tumblr I was obsessed I saw Fat Hate Threads Fat People Stories and I would binge while reading through them Laughing at fat people even though I was one I kept thinking man I need to make a change this shit isnt healthy but I would do something for a week and go back to my old ways I finally found the subreddit that changed SAVED my life It s called r fatpeoplehate You get banned for being fat so I never dared post a comment or a link or argue or do anything but lurk I had been on tumblr so long I was convinced every boy secretly loved fat girls so I didnt have to change I just had to find me one that didn t care about being in public with a fat girl This subreddit opened my eyes not only is fat acceptance BULLSHIT but so is being fat They hate all fat people on that sub and they have the right to I think all fit humans have a buried hate for fat people but they have been raised that it s impolite to say something out loud about it I believe they have every right I am still fat as fuck yes I have changed my lifestyle greatly but until I am fit I wont be talking about that because I m not looking for someone to get their hopes up in me finally losing weight and getting healthy I dont want anyone to be happy for me I need more people around that won t congratulate me when I lose weight I need more people around that will be like OK but you shouldnt have let yourself get that bad in the first place we aren t here to give you a gold star you re literally just going from a gelatinous blob to a human being shut the hell up and I ve found that in fatpeoplehate I m not saying that you shouldn t love your body I m saying love your body by making sure you are healthy If your bmi is over and you re not a body builder or some sort of athlete you re not healthy I dont care what your excuses are being fat isnt healthy it will never be healthy You are cutting years off your life you are creating health problems for your future everytime you preach about HAES If you have kids and you put your habits onto them youre creating a shortened life for them I know what it s like to be fat I ve been through all the excuses you re giving the world I have fat ass grandparents and a chubby family besides my mom I still don t blame being fat on genetics I told you all about how my mom used to beat me for being fat because I want you to know no matter how shitty your upbringing was no matter WHAT happened to you as a kid or what s happening to you now you dont need to eat your feelings or eat because of your PTSD or BPD or whatever disease you ve diagnosed yourself with What my mom did was wrong but I dont blame my current weight on my past I blame it on lack of discipline I thought I had PCOS for the longest time guess what It turns out I m just fat Every excuse you re using is wrong you cannot be healthy at every size If you are obese or even overweight you need to improve your eating habits and exercise You have one fucking life look deep down inside yourself do you really want to be fat forever You can lie to yourself all you want but I know you dont want to be fat I know you don t really think all these amazing things about yourself I know because I tried so hard to convince everyone I was cute The constant narcissism in the fat acceptance tags People that truly believe they are beautiful and healthy do not have to scream about it every time someone tells them they are wrong This was a really poorly written rant but I needed to get it out Fat shaming and Fat hate saved my life and my future children s lives It seems wrong to promote hatred but if you re doing it for HEALTH reasons I feel it s justified Obesity isnt attractive our bodies aren t meant to be that size and if your e wondering why these people on the internet are so attracted to you but real life guys arent It s because fat girls guys are never going to be seen as attractive Even fat people with pretty faces Adele Queen Latifah are seen as pretty but would be seen as more attractive if they looked healthy People on the internet calling you attractive are most definitely fetishists or people that are so desperate and alone they crave any sort of attention That s all I have to say Fat acceptance is wrong and you re slowly killing yourself No excuses stop eating so much and start exercising more If you have problems with your metabolism exercise harder and eat even healthier You will lose weight you will be healthy \n",
      "\n",
      "If you want to lose weight and be healthier while being vegan you should consult the maverick Dr McDougall https www drmcdougall com he is a good source for translating the nutrition research into language the general public can understand and giving dietary advise based on this research Here is an example since you mentioned weight loss about how to sustainably lose weight and keep it off gt Satisfying the appetite begins with filling the stomach Compared to cheese calories per gram meat calories per gram and oils calories per gram starches contribute only about calorie per gram They help you to feel full for just a quarter of the calories in cheese and meat and one ninth of those in oil Plus they offer a great deal of satisfaction Research comparing the way carbohydrates and fats appease the appetite shows that carbohydrates lead to hours of satiety whereas fats have little impact In other words when you fill up on starch you stay full for a long time whereas when you fill up on fats and oils you still want to eat more gt gt Excess Starch Does Not Turn to Body Fat A widely held myth holds that the sugars in starches are readily converted into fat which is then stored visibly in our abdomen hips and buttocks If you read the published research you will see that there is no disagreement about this whatsoever among scientists and that they say that this is incorrect After eating we break down the complex carbohydrates in starchy foods into simple sugars These sugars are absorbed into the bloodstream where they are transported to trillions of cells throughout the body for energy If you eat more carbohydrate than your body needs you ll store up to pounds of it invisibly in the muscles and liver in the form of glycogen If you eat more carbohydrate than you can use as your daily energy and store as glycogen you ll burn the remainder off as body heat and through physical movement other than sports such as walking to work typing yard work and fidgeting gt Turning sugars into fats is a process called de novo lipogenesis Pigs and cows use this process to convert carbohydrates from grains and grasses into calorie dense fats That s what makes them so appealing as a food source Bees do it too converting honey simple carbohydrate into wax fatty acids and alcohols gt We humans are very inefficient at converting carbohydrate to fat we don t do it under normal conditions The cost for this conversion is percent of the calories consumed Subjects overfed large amounts of simple sugars under experimental laboratory conditions however will convert a small amount of carbohydrate to fat For example both trim and obese women fed percent more calories than they usually ate in a day along with an extra ounces grams of refined sugar produced less than grams of fat daily less than ounce That s just extra calories stored as fat per day You d have to overeat all of those extra calories and table sugar every day for nearly months just to gain pound of extra body fat gt gt The warning about carbohydrates turning to body fat is a myth and nothing more In humans even substantial quantities of refined and processed carbohydrates contribute only a trivial amount to body fat The same is not true of animal and vegetable fats however A passenger on a cruise ship gains an average of pounds on a day voyage caused by dining on buffets of meats cheese oil soaked vegetables and high fat desserts gt So where does all the belly fat come from It bears repeating The fat you eat is the fat you wear gt Fat Is the Metabolic Dollar Saved for the Next Famine After you eat dairy meat nuts oils and other high fat foods you absorb their fat from your intestine into the bloodstream From there it is transported to billions of adipose fat cells for storage This is a very efficient process It uses up only percent of the calories you consume to move the fat on your fork and spoon to your body fat This storage takes place almost effortlessly after every fat filled meal If you have your body fat chemically analyzed it will reveal the kinds of fats you commonly eat Margarine and shortening for example result in high proportions of trans fats in stored body fat A diet high in cold water marine fish shows omega fats The saying from my lips to my hips expresses the real life effect of the Western diet Fortunately starches contain very little fat for you to wear gt Rolls BJ The role of energy density in the overconsumption of fat J Nutr Feb S Suppl S S Blundell JE Lawton CL Cotton JR Macdiarmid JI Control of human appetite implications for the intake of dietary fat Annu Rev Nutr Rolls BJ Kim Harris S Fischman MW et al Satiety after preloads with different amounts of fat and carbohydrate implications for obesity Am J Clin Nutr Oct Hellerstein MK De novo lipogenesis in humans metabolic and regulatory aspects Eur J Clin Nutr Apr Suppl S Acheson KJ Schutz Y Bessard T et al Glycogen storage capacity and de novo lipogenesis during massive carbohydrate overfeeding in man Am J Clin Nutr Aug Minehira K Bettschart V Vidal H et al Effect of carbohydrate overfeeding on whole body and adipose tissue metabolism in humans Obes Res Sep McDevitt RM Bott SJ Harding M et al De novo lipogenesis during controlled overfeeding with sucrose or glucose in lean and obese women Am J Clin Nutr Dec Dirlewanger M di Vetta V Guenat E et al Effects of short term carbohydrate or fat overfeeding on energy expenditure and plasma leptin concentrations in healthy female subjects Int J Obes Relat Metab Disord Nov McDevitt RM Bott SJ Harding M et al De novo lipogenesis during controlled overfeeding with sucrose or glucose in lean and obese women Am J Clin Nutr Dec Danforth E Jr Diet and obesity Am J Clin Nutr May Suppl Hellerstein MK No common energy currency de novo lipogenesis as the road less traveled Am J Clin Nutr Dec Tappy L Metabolic consequences of overfeeding in humans Curr Opin Clin Nutr Metab Care Nov Levine JA Non exercise activity thermogenesis NEAT Best Pract Res Clin Endocrinol Metab Dec gt Thomas LH Jones PR Winter JA Smith H Hydrogenated oils and fats the presence of chemically modified fatty acids in human adipose tissue Am J Clin Nutr May London SJ Sacks FM Caesar J et al Fatty acid composition of subcutaneous adipose tissue and diet in postmenopausal US women Am J Clin Nutr Aug Baylin A Kabagambe EK Siles X Campos H Adipose tissue biomarkers of fatty acid intake Am J Clin Nutr Oct Brevik A Veierod MB Drevon CA Andersen LF Evaluation of the odd fatty acids and in serum and adipose tissue as markers of intake of milk and dairy fat Eur J Clin Nutr Dec gt The source is McDougall John The Starch Solution Eat the Foods You Love Regain Your Health and Lose the Weight for Good Note The sources are not being formatted properly in Reddit If you really like that excerpt PM me your email and I can forward to it you so you can send it on to others Too many people are confused and believe carb bashing nonsense when it is not true \n",
      "\n",
      "From other comments I gather that this type of seat is for special needs children not necessarily for obese children While this picture may not demonstrate the issue of childhood obesity in America the fact remains that this is fat becoming and incredibly serious and worryingly prevalent problem This may sound harsh but I believe it is time to consider allowing a child to become seriously overweight a form of child abuse No one would disagree that it is a parent s responsibility to care for the basic health of their child and that subjecting them to constant dangerous conditions very well may constitute neglect or abuse Failing to provide a child with any sort of healthy food failing to encourage or facilitate any physical activity and allowing a child to become severely overweight seems like a clear case of neglect It s time to start requiring parent s to adopt some responsibility I think they are considerably more culpable than possibly misleading fast food ads or less healthy school lunches\n",
      "\n",
      "On that first point I hate how far the wrong way we ve come when talking about measurements of health Yeah BMI isn t totally solid but fuck if you are under ft with a BMI above even if you lift you are fat and you need to lose weight And the fuck does no magic number mean Body fat percentage is incredibly useful A guy that s above body fat is nowhere near healthy gt Rather than you failing the diet the diet failed you I ll give them that if all the diets people try are shitty fad diets gt You don t have to go hungry or under eat to be the healthiest weight you can be That actually is true however their explanation is bullshit They even suggest to don t count calories and the only expert we need to listen to is our body That moment when a binge eater like every fat activist ever has fucked hunger cues and thinks junk food cravings are an actual sign they need to eat I can t tell you how many times I ve read a fat activist say MY BODY CRAVES A DOZEN DONUTS AND I WILL GIVE IT NOURISHMENT gt It s not possible for everyone to lose the amount of weight they want Yeah I am pretty sure it is possible gt a bitter pill to swallow for people who think the only think standing between them and looking like a supermodel is willpower and the latest wonder diet People come in all different shapes and sizes Sure following a fad diet is never a good idea but fuck using the everyone comes in different shapes and sizes message to normalize obesity Being obese isn t the same as being tall or short It s something that s entirely in your control Sure the diet industry is full of bullshit and quackery but countering with this HAES insanity is just as harmful \n",
      "\n",
      "Being obese is a very common way to develop a mobility problem If you re too large to sustain activity or your extra weight strains your joints you ll probably be less inclined to be active It s really not a chicken and egg problem where one scenario is always a precursor to the other Obviously SOME people have mobility issues that lead them to be overweight but it can very often be the other way around There are people who ve lost limbs and still manage to be mobile and healthy enough to keep fit It s not exactly a fixed outcome to become morbidly obese when you have mobility issues I m really not sure why people find it so difficult to take responsibility for their own bodies Being obese is on some level a choice A person must choose to eat that many more calories than they need whilst doing nothing to burn them off to get that way That s true of able bodied people and people with diseases that might lead them to be overweight If you have a disease that affects weight you better believe you also have guidelines on how to best manage that problem too There are exercises for people who are limited in just about every way Even if you don t have the money to pay for a physical therapist it s easier than ever to do research online And at the very least if you know you can t move around and be active it makes sense to watch what you eat It s very hard to look at trends of rising obesity and blame them on pre existing medical conditions Where were all these obese people before sugar and fat were made so widely available Where was juvenile diabetes hanging out You can actually look at populations who were exposed to western food relatively recently and see exactly how related to crappy food obesity and its laundry list of health problems is There s causation there There s data showing you that it is sugar and fat leading to all these health problems that didn t exist before So I m sorry but I just don t see it as making sense to look at an obese person riding a scooter and say to myself they must have had rickets as a kid or something because it s most likely due to their own diet and lack of self awareness that they are now unable to carry their own weight on their own two feet \n",
      "\n",
      "Okay so you didn t read the article at all The workers protesting the restaurant understand so little about protest and about the health problems that the food causes that they went inside the restaurant and bought cold drinks when they got hot or tired while picketing If that s not perfectly emblematic of the misunderstanding and disconnection of people from the source of their problems then I don t know what is For the majority of people the problems low wages exploding obesity rates etc are so ubiquitous and inescapable that they don t even realize that they are problems Most Americans are so inured to obesity that they don t even recognize what a person of healthy weight looks like http www consumeraffairs com news whos fat most of us cant recognize obesity html and cannot even tell that their own children are obese Not to mention for many people not eating fast food is not an option A huge proportion of people live in what are called food deserts areas where they would be hard pressed to even find a store that sells something other than fast food In the city limits of Detroit there wasn t even a single chain grocery store in existence for over a decade until this year How exactly are people supposed to not eat there And more importantly in a city with unemployment how are people supposed to not work there \n",
      "\n"
     ]
    }
   ],
   "source": [
    "listOfWords = [\"fat\", \"weight\", \"food\", \"obese\", \"health\"]\n",
    "count = 0\n",
    "for sentence in bodyList:\n",
    "    if all(word in sentence for word in listOfWords):\n",
    "        if count <= 10:\n",
    "            print(sentence + \"\\n\")\n",
    "            count += 1"
   ]
  },
  {
   "cell_type": "code",
   "execution_count": 10,
   "metadata": {
    "collapsed": false
   },
   "outputs": [
    {
     "name": "stdout",
     "output_type": "stream",
     "text": [
      "3265.0 : Agreed. If they were just anti fat-shaming, I'd be on board. However, fat acceptance activists like to cherry-pick medical studies and downplay the serious health effects associated with obesity, which is messed up.  \n",
      "\n",
      "898.0 : Exactly. Calories are tough burn. If you're out of shape in the beginning, you'd have to really bust your ass to even burn a couple hundred Calories per day\\*, and it's so stupidly easy to re-consume a couple hundred Calories.\n",
      "\n",
      "I was counting Calories a couple months ago and keeping track of them with an extremely handy app called MyFitnessPal, and trying to walk about 1.5km per day (tracking with RunKeeper). Unfortunately I recently fell off the wagon, but when I was doing it those apps offered me a ton of insight into just how many Calories are in common foods, and just how difficult it is to burn them.\n",
      "\n",
      "The point is that it's much *much* easier to simply not consume Calories in the first place, than to try to burn off the ones you do consume. (And believe me, as a person suffering from obesity most of my life, I know how difficult it still is to refrain from eating sometimes. But it's still a lot easier to eschew 400 Calories in a day by simply not eating a chocolate filled croissant than it is to exercise enough to burn 400 Calories. You're talking like an hour and a half of rather strenuous activity.)\n",
      "\n",
      "\\* **Edit:** What I mean to say is that it's a lot more difficult to push yourself to exercise when you're initially heavy and/or out of shape. While the Calories you burn during exercising are higher due to more effort being expended, initially you have a greater chance of injuring yourself or facing discouragement by hitting the wall than when you're in better shape and in the habit of exercising. \n",
      "\n",
      "821.0 : The problem isn't that obesity runs in your family....it's the nobody runs in your family.  \n",
      "\n",
      "533.0 : I'm a fat guy. I've got 100+ pounds to lose. Is that OK? Hell no. Does that make a lesser person? Of course not. When people talk about how disgusting fat people are, it doesn't make us want to lose weight. For me it makes me want to say \"Fuck you then, I'll be over here with my bacon and my cake.\" We need to accept it as a condition. Not an illness, but a curable  condition. Accept the person, you don't have to accept their choices. You aren't going to help if you try shaming someone into fitness, or try to force them into it. Yes, obesity is an issue that should be dealt with. Yes I'm working on losing weight by change of diet and adding more physical activity. Did that come about because someone made me feel bad enough about myself that I changed? No. In fact its those people that made me put it off as long as I did. I changed because I wanted to be worth my girlfriends affection. Not that she doesn't love me as I am, but she deserves the best there is, and a 320 pound dude with a beard and barely employed doesn't fit the bill. When someone has a goal, that's when they will work to change. You have fat friends? Love them as they are. But help them find their goal. What will make them want to lose weight? \n",
      "EDIT: Thanks for my first gold, whoever you may be.  \n",
      "\n",
      "387.0 : Written by an Englishman, about the English equivalent of Middle Earth, played by Englishmen in the adaptions.\n",
      "\n",
      "The second breakfast seems English, what with rising obesity and all. \n",
      "\n",
      "357.0 : USA! USA! USA! USA! USA! USA! USA! USA! USA! USA! USA! USA! USA!      \n",
      "             \n",
      "[X] JE SUIS AWFUL CONFIRMED                       \n",
      "[X] SILVER NA &gt; GLOBAL ELITE EU CONFIRMED                   \n",
      "[X] CLG BEST TEAM UNIVERSE CONFIRMED          \n",
      "[X] APPLAUSE CONFIRMED         \n",
      "                   \n",
      "*NBK looks around in his booth. His feeble french mind is scrambling to find a way to disqualify CLG. French tears begin flowing when he realizes this is no olofpass. This was the United States of America.*            \n",
      "                      \n",
      "Was the movie American Sniper about PTR?                                \n",
      "\"I'm willing to meet my creator (Gaben) and answer for every shot that I took\" - PTR             \n",
      "                       \n",
      "PTR &gt; GTR                 \n",
      "                  \n",
      "GG THANKS FOR THE SKINS FRENCH FAN GUYS!          \n",
      "          \n",
      "**APPLAUSE AND OBESITY INTENSIFIES**                \n",
      "                          \n",
      "\n",
      "278.0 : I think they worded their statement badly, but actually meant to say that while calorie counting is simple and does work for losing weight, a lack of knowledge about calorie counting is not the reason that our society has an obesity problem, and there are a lot of other factors also affecting our eating habits that counting calories just isn't going to help or change. You can lead a horse to water, but you can't make him drink. In just the same way, you can teach a fat person this fairly simple calories-in-calories-out process to losing weight, but you can't make them want to stop eating so much, and even if they do want to, that still doesn't mean they're going to find it easy. \n",
      "\n",
      "nan : AskReddit \n",
      "\n",
      "nan : England has nothing on MURICA \n",
      "\n",
      "541.0 : Maybe morbid obesity is the first thing on the chart because weighing you is the *first thing you do at the doctor's office*.  \n",
      "\n",
      "---------------------------------------------------------------------------------------------------------------------\n",
      "0.0 : The modern diseases I see most cited are tooth decay, arthritis, and obesity. These are really diseases of industrialization so there's a lot more data than you'd think. I have only a cursory familiarity of the subject and have to rely on the herd for more, though, but it seems to mostly agree with conventional wisdom anyway.\n",
      "\n",
      "I try not to think about type 2 diabetes. My mom has it and I had a positive anti gad65 test at one point. So far so good though. \n",
      "\n",
      "1.0 : Which type of malaria? There are several species relevant to humans. One has almost no symptoms. Vivax is no fun but much more treatable than obesity. I guess you are being imprecise for the sake of brevity and actually mean falciparum. Is there a vaccine for P. falciparum? You invent it? You should tell Bill Gates he has a big check waiting for you. \n",
      "\n",
      "2.0 : None of that causes the body to create something out of nothing. If someone is on medication that does that, then they can eat less food to avoid gaining weight. Since that can be done, the medication doesn't cause weight gain. The weight gain is caused by the failure of the person to take that side effect into account and eat less accordingly.  Short people can't eat as much as tall people with the same activity level without getting fat, but that doesn't mean that being short causes obesity. \n",
      "\n",
      "Edit for clarity. \n",
      "\n",
      "3.0 : http://www.webmd.com/diet/news/20150105/study-debunks-notion-of-healthy-obesity?src=RSS_PUBLIC\n",
      "\n",
      "Got discredited. Obesity, even the healthy type, is EXTREMELY LIKELY to become unhealthy over time. \n",
      "\n",
      "4.0 : No, not for most. Morbid obesity is not a kink for most people \n",
      "\n",
      "5.0 : Here is what the linked meme says in case it is blocked at your school/work or is unavailable for any reason:\n",
      "\n",
      "#***Success Kid***  \n",
      "\n",
      "&gt;***Post Title:***  *After battling with obesity for years, I am proud to say I'm still going strong on my New Year's Resolution* \n",
      "\n",
      "&gt;***Top:***  *SET A GOAL TO WALK AT LEAST  9,000 STEPS A DAY IN JAN* \n",
      "\n",
      "&gt;***Bottom:***  *WALKED AN AVERAGE OF 11,000 STEPS/DAY* \n",
      "\n",
      "\n",
      "\n",
      "[Original Link^1](http://imgur.com/nPI6LIy) | [Meme Template^2](http://imgur.com/memegen/create/nPI6LIy) \n",
      "\n",
      "6.0 : It is fatlogic. Obesity is the result of eating too much food at any age. That's why you see fat kids of all ages, from toddlers to teens, because they all eat too much. It has nothing to do with their metabolism, it has everything to do with how many calories they consume. \n",
      "\n",
      "7.0 : &gt; My question for you is simply: how do you come up with three meals a day and meet your calories, fat, protein, and carb req's?\n",
      "\n",
      "Macros --&gt; calories. I would encourage you to sit down with MFP and plan meals and then adjust your meals as needed to fit your macros. This will allow you to learn about the macros in various foods until you get the hang of it.  \n",
      "\n",
      "I would set activity level to sedentary, the activity levels overestimate, set deficit to 20% , set protein to 88 gram\n",
      "\n",
      "\n",
      "&gt; Isn't this a shortcut to heart disease?\n",
      "\n",
      "Yes, we are all eating keto just waiting for the clot to break loose in our arteries and kill us :)  Educate yourself - /r/ketosicence, Good Calories Bad Calories, The Big Fat Surprise, Death by Food Pyramid. For decades the mantra has been low fat and yet the prevalence of obesity, diabetes, hearth disease and metabolic syndrome continue to increase. Fat the issue...I think not.  \n",
      "\n",
      "\n",
      "&gt; What are the healthiest sources of fat?\n",
      "\n",
      "In general you want to focus on saturated fat (animal products, coconut oil), monounsaturated fats  (olive oil, avocado) and omega 3 polyunsaturated fats (fish) and avoid omega 6 polyunsaturated fats (vegetable oils)\n",
      "\n",
      "Here's my comprehensive grocery list (items in bold be top choices for my first shopping trip): \n",
      "\n",
      "* **Eggs**\n",
      "* **Avocados**   \n",
      "* **Heavy cream**, half and half, almond milk, coconut milk, sour cream, yogurt    \n",
      "* **Coconut oil**, **olive oil**, avocado oil, **butter**, ghee, duck fat, tallow, schmaltz, bacon grease  \n",
      "* Vegetables: **broccoli**, **cauliflower**, artichokes, green beans, kale, **spinach**, swiss chard, eggplant, **lettuce**, zucchini, mushrooms, asparagus, cabbage, bok choy, spaghetti squash, fennel , brussels sprouts, collard greens\n",
      "* **Various hard and soft cheeses, cream cheese**  \n",
      "* Nuts and nut butter  \n",
      "* Various salami and deli meat  \n",
      "* Meat: chicken breast, **chicken thigh**, whole chicken, pork shoulder, pork loin, pork belly, **bacon**, goat, lamb, **steak** (sirloin, ribeye, flank, hanger, flat iron, chuck), **ground beef**  \n",
      "* Fish: shrimp, crab, salmon, tuna, sardines, swordfish, mackerel, mahi mahi, cod, **canned fish**  \n",
      "* **Bouillon cubes or bones for homemade stock**  \n",
      "\n",
      "Keep it simple - meat, low carb vegetables, oils, butter, cheese, eggs, avocado, cream, nuts \n",
      "\n",
      " \n",
      "\n",
      "8.0 : Maybe I should have added an ^/s?\n",
      "\n",
      "I'd say it's about as correct as saying all Amercians are fat. Not *technically* true of course, but they do have noticeably higher obesity rate. \n",
      "\n",
      "9.0 : Things like autism and birth defects don't come from \"The Patriarchy.\"\n",
      "\n",
      "Most people in these movements view lack of fat acceptance as stemming from some form of misogyny or objectification of women. Rather than seeing obesity as a health issue they look at it through the lens of social consequences and say that the reason obesity is not acceptable by society is because we've been taught to view it as unattractive and that the only reason people care if women are skinny is because then they are more alluring to men. You can't use that same lens when looking at autism, and so it's not really something they can have a movement against, since the *cause* of autism isn't able to be seen as a social issue like the cause of body image problems is.\n",
      "\n",
      "(This is not my stance on the matter, just the reasoning I understand to be behind the FA movement as a feminist issue.) \n",
      "\n"
     ]
    }
   ],
   "source": [
    "scoreDict = obesitySubreddits.set_index('score')['body'].to_dict()\n",
    "\n",
    "topScoreCount = 0\n",
    "for score, body in sorted(scoreDict.items(),reverse = True):\n",
    "    if topScoreCount != 10:\n",
    "        print(score, \":\" ,body, \"\\n\")\n",
    "        topScoreCount += 1\n",
    "print (\"---------------------------------------------------------------------------------------------------------------------\")        \n",
    "bottomScoreCount = 0\n",
    "for score, body in sorted(scoreDict.items()):\n",
    "    if bottomScoreCount != 10:\n",
    "        print(score, \":\" ,body, \"\\n\")\n",
    "        bottomScoreCount += 1"
   ]
  },
  {
   "cell_type": "markdown",
   "metadata": {},
   "source": [
    "# Analysis on Eating Disorder-Related Subreddts (including Anorexia and Obesity)"
   ]
  },
  {
   "cell_type": "code",
   "execution_count": 10,
   "metadata": {
    "collapsed": false
   },
   "outputs": [
    {
     "data": {
      "text/html": [
       "<div>\n",
       "<table border=\"1\" class=\"dataframe\">\n",
       "  <thead>\n",
       "    <tr style=\"text-align: right;\">\n",
       "      <th></th>\n",
       "      <th>author</th>\n",
       "      <th>body</th>\n",
       "      <th>subreddit</th>\n",
       "      <th>subreddit_id</th>\n",
       "      <th>score</th>\n",
       "    </tr>\n",
       "  </thead>\n",
       "  <tbody>\n",
       "    <tr>\n",
       "      <th>0</th>\n",
       "      <td>casiells</td>\n",
       "      <td>Well..when someone is obese its obvious when y...</td>\n",
       "      <td>TumblrInAction</td>\n",
       "      <td>t5_2vizz</td>\n",
       "      <td>1</td>\n",
       "    </tr>\n",
       "    <tr>\n",
       "      <th>1</th>\n",
       "      <td>RealNotFake</td>\n",
       "      <td>&amp;gt;Clean eating means not overly processed, t...</td>\n",
       "      <td>Fitness</td>\n",
       "      <td>t5_2qhx4</td>\n",
       "      <td>7</td>\n",
       "    </tr>\n",
       "    <tr>\n",
       "      <th>2</th>\n",
       "      <td>taicapzen</td>\n",
       "      <td>\"You're gaining weight!\"\\rBecause you were a G...</td>\n",
       "      <td>raisedbynarcissists</td>\n",
       "      <td>t5_2we9n</td>\n",
       "      <td>9</td>\n",
       "    </tr>\n",
       "    <tr>\n",
       "      <th>3</th>\n",
       "      <td>MetricLemur</td>\n",
       "      <td>For the last 100,000 years of humanity obesity...</td>\n",
       "      <td>sex</td>\n",
       "      <td>t5_2qh3p</td>\n",
       "      <td>5</td>\n",
       "    </tr>\n",
       "    <tr>\n",
       "      <th>4</th>\n",
       "      <td>Unbearable_facts</td>\n",
       "      <td>The EU courts now says that obesity is a disab...</td>\n",
       "      <td>videos</td>\n",
       "      <td>t5_2qh1e</td>\n",
       "      <td>1</td>\n",
       "    </tr>\n",
       "    <tr>\n",
       "      <th>5</th>\n",
       "      <td>curiousnotacat</td>\n",
       "      <td>A joke?!? *I'm shouting by this point.* How th...</td>\n",
       "      <td>XMenRP</td>\n",
       "      <td>t5_31uz5</td>\n",
       "      <td>1</td>\n",
       "    </tr>\n",
       "    <tr>\n",
       "      <th>6</th>\n",
       "      <td>halloweenharry</td>\n",
       "      <td>I'm not sure if anyone is going to read this b...</td>\n",
       "      <td>AskReddit</td>\n",
       "      <td>t5_2qh1i</td>\n",
       "      <td>3</td>\n",
       "    </tr>\n",
       "    <tr>\n",
       "      <th>7</th>\n",
       "      <td>Whowillryze</td>\n",
       "      <td>No offense but i don't understand obese people...</td>\n",
       "      <td>pics</td>\n",
       "      <td>t5_2qh0u</td>\n",
       "      <td>1</td>\n",
       "    </tr>\n",
       "    <tr>\n",
       "      <th>8</th>\n",
       "      <td>itsrain</td>\n",
       "      <td>My understanding is that simple carbs have low...</td>\n",
       "      <td>Fitness</td>\n",
       "      <td>t5_2qhx4</td>\n",
       "      <td>-1</td>\n",
       "    </tr>\n",
       "    <tr>\n",
       "      <th>9</th>\n",
       "      <td>duarchie</td>\n",
       "      <td>Guess now you're just morbidly obese... Keep i...</td>\n",
       "      <td>pics</td>\n",
       "      <td>t5_2qh0u</td>\n",
       "      <td>5</td>\n",
       "    </tr>\n",
       "  </tbody>\n",
       "</table>\n",
       "</div>"
      ],
      "text/plain": [
       "             author                                               body  \\\n",
       "0          casiells  Well..when someone is obese its obvious when y...   \n",
       "1       RealNotFake  &gt;Clean eating means not overly processed, t...   \n",
       "2         taicapzen  \"You're gaining weight!\"\\rBecause you were a G...   \n",
       "3       MetricLemur  For the last 100,000 years of humanity obesity...   \n",
       "4  Unbearable_facts  The EU courts now says that obesity is a disab...   \n",
       "5    curiousnotacat  A joke?!? *I'm shouting by this point.* How th...   \n",
       "6    halloweenharry  I'm not sure if anyone is going to read this b...   \n",
       "7       Whowillryze  No offense but i don't understand obese people...   \n",
       "8           itsrain  My understanding is that simple carbs have low...   \n",
       "9          duarchie  Guess now you're just morbidly obese... Keep i...   \n",
       "\n",
       "             subreddit subreddit_id  score  \n",
       "0       TumblrInAction     t5_2vizz      1  \n",
       "1              Fitness     t5_2qhx4      7  \n",
       "2  raisedbynarcissists     t5_2we9n      9  \n",
       "3                  sex     t5_2qh3p      5  \n",
       "4               videos     t5_2qh1e      1  \n",
       "5               XMenRP     t5_31uz5      1  \n",
       "6            AskReddit     t5_2qh1i      3  \n",
       "7                 pics     t5_2qh0u      1  \n",
       "8              Fitness     t5_2qhx4     -1  \n",
       "9                 pics     t5_2qh0u      5  "
      ]
     },
     "execution_count": 10,
     "metadata": {},
     "output_type": "execute_result"
    }
   ],
   "source": [
    "bothSubreddits.head(10)"
   ]
  },
  {
   "cell_type": "code",
   "execution_count": 11,
   "metadata": {
    "collapsed": false
   },
   "outputs": [
    {
     "data": {
      "text/plain": [
       "AskReddit         2119\n",
       "fatpeoplehate     1801\n",
       "fatlogic          1410\n",
       "Fitness            361\n",
       "funny              321\n",
       "relationships      298\n",
       "WTF                268\n",
       "todayilearned      229\n",
       "loseit             221\n",
       "TumblrInAction     186\n",
       "Name: subreddit, dtype: int64"
      ]
     },
     "execution_count": 11,
     "metadata": {},
     "output_type": "execute_result"
    }
   ],
   "source": [
    "# most common subreddits posted to\n",
    "bothSubreddits[\"subreddit\"].value_counts()[:10]"
   ]
  },
  {
   "cell_type": "code",
   "execution_count": 12,
   "metadata": {
    "collapsed": false
   },
   "outputs": [
    {
     "data": {
      "text/plain": [
       "leelem0n               50\n",
       "Acolyte_of_Swole       32\n",
       "maybesaydie            24\n",
       "MeMyselfAndI1974       20\n",
       "autowikibot            20\n",
       "pairyhenis             19\n",
       "NothingSuperSpecial    18\n",
       "brazil84               18\n",
       "itsmyotherface         17\n",
       "#NAME?                 16\n",
       "Name: author, dtype: int64"
      ]
     },
     "execution_count": 12,
     "metadata": {},
     "output_type": "execute_result"
    }
   ],
   "source": [
    "# most common subreddits authors\n",
    "bothSubreddits[\"author\"].value_counts()[:10]"
   ]
  },
  {
   "cell_type": "code",
   "execution_count": 14,
   "metadata": {
    "collapsed": true
   },
   "outputs": [],
   "source": [
    "scoreDict = bothSubreddits.set_index('author')['body'].to_dict()"
   ]
  },
  {
   "cell_type": "code",
   "execution_count": 15,
   "metadata": {
    "collapsed": false
   },
   "outputs": [
    {
     "name": "stdout",
     "output_type": "stream",
     "text": [
      "[('obese', 8556), ('fat', 6459), ('like', 6362), ('obesity', 5031), ('weight', 4987), ('eating', 4147), ('would', 4027), ('get', 3860), ('think', 3543), ('one', 3477), ('gt', 3065), ('even', 2924), ('really', 2854), ('food', 2724), ('also', 2674), ('body', 2669), ('know', 2652), ('much', 2646), ('eat', 2482), ('time', 2459)]\n",
      "[('salons', 1), ('excelled', 1), ('nitroferricyanide', 1), ('allen', 1), ('bulemics', 1), ('blitzcrank', 1), ('penchant', 1), ('gofers', 1), ('kost', 1), ('lrock', 1), ('convoy', 1), ('merican', 1), ('ikq', 1), ('mordern', 1), ('uj', 1), ('itnerwebs', 1), ('flashing', 1), ('spanky', 1), ('aleeeeeexxxxx', 1), ('narcissistically', 1)]\n"
     ]
    }
   ],
   "source": [
    "# idea, look at adjectives!!\n",
    "bodyList = []\n",
    "for val in bothSubreddits[\"body\"]:\n",
    "    val = re.sub(\"[^a-zA-Z]+\", \" \", val)\n",
    "    bodyList.append(val)\n",
    "\n",
    "tokenList = []\n",
    "for sentence in bodyList:\n",
    "    tokens = nltk.word_tokenize(sentence)\n",
    "    tokenList.append(tokens)\n",
    "lowerCaseList = [item.lower() for sublist in tokenList for item in sublist]\n",
    "finalList = [word for word in lowerCaseList if word not in stopwords.words('english')]\n",
    "\n",
    "fdist = FreqDist(finalList)\n",
    "common = fdist.most_common()[0:21] # not including \"obesity\"\n",
    "uncommon = list(reversed(fdist.most_common()))[:20]\n",
    "print(common)\n",
    "print(uncommon)"
   ]
  },
  {
   "cell_type": "code",
   "execution_count": null,
   "metadata": {
    "collapsed": true
   },
   "outputs": [],
   "source": []
  }
 ],
 "metadata": {
  "kernelspec": {
   "display_name": "Python [Root]",
   "language": "python",
   "name": "Python [Root]"
  },
  "language_info": {
   "codemirror_mode": {
    "name": "ipython",
    "version": 3
   },
   "file_extension": ".py",
   "mimetype": "text/x-python",
   "name": "python",
   "nbconvert_exporter": "python",
   "pygments_lexer": "ipython3",
   "version": "3.5.2"
  }
 },
 "nbformat": 4,
 "nbformat_minor": 0
}
