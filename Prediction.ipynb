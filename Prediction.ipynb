{
 "cells": [
  {
   "cell_type": "markdown",
   "metadata": {},
   "source": [
    "##### Load datasets into Pandas."
   ]
  },
  {
   "cell_type": "code",
   "execution_count": 1,
   "metadata": {
    "collapsed": true
   },
   "outputs": [],
   "source": [
    "import pandas as pd\n",
    "\n",
    "anorexiaSubreddits = pd.read_csv(\"data/subreddits_anorexia.csv\", encoding='ISO-8859-1')\n",
    "obesitySubreddits = pd.read_csv(\"data/subreddits_obesity.csv\", encoding='ISO-8859-1')\n",
    "bothSubreddits = pd.read_csv(\"data/subreddits_both.csv\", encoding='ISO-8859-1')"
   ]
  },
  {
   "cell_type": "markdown",
   "metadata": {},
   "source": [
    "##### Extract authors for each class (use hashes instead of usernames to protect privacy)."
   ]
  },
  {
   "cell_type": "code",
   "execution_count": 2,
   "metadata": {
    "collapsed": false
   },
   "outputs": [],
   "source": [
    "import hashlib\n",
    "\n",
    "anorexia_authors = anorexiaSubreddits.drop_duplicates(subset=\"author\")['author'].apply(lambda a : hashlib.md5(a.encode()).hexdigest()).to_frame()\n",
    "obesity_authors = obesitySubreddits.drop_duplicates(subset=\"author\")['author'].apply(lambda a : hashlib.md5(a.encode()).hexdigest()).to_frame()\n",
    "both_authors = bothSubreddits.drop_duplicates(subset=\"author\")['author'].apply(lambda a : hashlib.md5(a.encode()).hexdigest()).to_frame()\n"
   ]
  },
  {
   "cell_type": "code",
   "execution_count": 4,
   "metadata": {
    "collapsed": false
   },
   "outputs": [
    {
     "name": "stderr",
     "output_type": "stream",
     "text": [
      "3636it [05:42, 11.82it/s]\n"
     ]
    },
    {
     "name": "stdout",
     "output_type": "stream",
     "text": [
      "Total # chunks processed: 3636.\n"
     ]
    }
   ],
   "source": [
    "from tqdm import tqdm\n",
    "\n",
    "csv_filename = '../../data_full_preprocessed.csv'\n",
    "chunksize = 10000\n",
    "count = 0\n",
    "obesity_author_data_frames = []\n",
    "anorexia_author_data_frames = []\n",
    "neither_author_data_frames = []\n",
    "\n",
    "anorexia_record_count = 0\n",
    "obesity_record_count = 0\n",
    "neither_record_count = 0\n",
    "\n",
    "for chunk in tqdm(pd.read_csv(csv_filename, chunksize=chunksize)):\n",
    "    chunk['author'] = chunk['author'].apply(lambda a : hashlib.md5(a.encode()).hexdigest())\n",
    "    anorexia_df = anorexia_authors.join(chunk.set_index('author'), on='author', how='inner', lsuffix='_left', rsuffix='_right')\n",
    "    if anorexia_record_count < 10000 and not anorexia_df.empty:\n",
    "        anorexia_author_data_frames.append(anorexia_df)\n",
    "        anorexia_record_count += len(anorexia_df)\n",
    "        \n",
    "    obesity_df = obesity_authors.join(chunk.set_index('author'), on='author', how='inner', lsuffix='_left', rsuffix='_right')\n",
    "    if obesity_record_count < 10000 and not obesity_df.empty:\n",
    "        obesity_author_data_frames.append(obesity_df)\n",
    "        obesity_record_count += len(obesity_df)\n",
    "        \n",
    "    # Use an outer join to get comments from users who have not posted about anorexia/obesity.\n",
    "    neither_df = chunk.join(both_authors, on='author', how='outer', lsuffix='_left', rsuffix='_right')\n",
    "    neither_df = neither_df[neither_df['author_right'].isnull()]\n",
    "    if neither_record_count < 10000 and not neither_df.empty:\n",
    "        neither_author_data_frames.append(neither_df)\n",
    "        neither_record_count += len(neither_df)\n",
    "        \n",
    "    count += 1\n",
    "    if anorexia_record_count > 10000 and obesity_record_count > 10000 and neither_record_count > 10000:\n",
    "        break\n",
    "print('Total # chunks processed: {}.'.format(count))\n",
    "\n",
    "pd.concat(anorexia_author_data_frames).to_csv('data/anorexia_author_data.csv', index=False)\n",
    "pd.concat(obesity_author_data_frames).to_csv('data/obesity_author_data.csv', index=False)\n",
    "pd.concat(neither_author_data_frames).to_csv('data/neither_author_data.csv', index=False)\n",
    "    "
   ]
  },
  {
   "cell_type": "markdown",
   "metadata": {},
   "source": [
    "##### Sample the data."
   ]
  },
  {
   "cell_type": "code",
   "execution_count": 3,
   "metadata": {
    "collapsed": false
   },
   "outputs": [],
   "source": [
    "import pandas as pd\n",
    "\n",
    "anorexia_author_data = pd.read_csv('data/anorexia_author_data.csv', encoding='ISO-8859-1') \n",
    "obesity_author_data = pd.read_csv('data/obesity_author_data.csv', encoding='ISO-8859-1')\n",
    "neither_author_data = pd.read_csv('data/neither_author_data.csv', encoding='ISO-8859-1')\n",
    "\n",
    "anorexia_author_data.insert(len(anorexia_author_data.columns), 'category', 'anorexia')\n",
    "obesity_author_data.insert(len(obesity_author_data.columns), 'category', 'obesity')\n",
    "neither_author_data.insert(len(neither_author_data.columns), 'category', 'neither')\n",
    "\n",
    "# Each dataset has ~10K rows so split into training and test sets of 5000 rows each.\n",
    "anorexia_author_data_train = anorexia_author_data.head(5000)\n",
    "anorexia_author_data_test = anorexia_author_data.head(5000)\n",
    "obesity_author_data_train = obesity_author_data.head(5000)\n",
    "obesity_author_data_test = obesity_author_data.tail(5000)\n",
    "neither_author_data_train = neither_author_data.head(5000)\n",
    "neither_author_data_test = neither_author_data.tail(5000)\n",
    "\n",
    "train_data = pd.concat([anorexia_author_data_train, obesity_author_data_train, neither_author_data_train])\n",
    "test_data = pd.concat([anorexia_author_data_test, obesity_author_data_test, neither_author_data_test])"
   ]
  },
  {
   "cell_type": "markdown",
   "metadata": {},
   "source": [
    "##### Feature extraction/Model selection pipeline\n",
    "\n",
    "Based heavily on:\n",
    "*   http://scikit-learn.org/stable/auto_examples/model_selection/grid_search_text_feature_extraction.html\n",
    "*   http://scikit-learn.org/stable/auto_examples/model_selection/grid_search_digits.html"
   ]
  },
  {
   "cell_type": "code",
   "execution_count": 4,
   "metadata": {
    "collapsed": false
   },
   "outputs": [],
   "source": [
    "from pprint import pprint\n",
    "from time import time\n",
    "import logging\n",
    "\n",
    "from sklearn.feature_extraction.text import CountVectorizer\n",
    "from sklearn.feature_extraction.text import TfidfTransformer\n",
    "from sklearn.linear_model import SGDClassifier\n",
    "from sklearn.metrics import classification_report\n",
    "from sklearn.model_selection import GridSearchCV\n",
    "from sklearn.pipeline import Pipeline\n",
    "\n",
    "# Display progress logs on stdout\n",
    "logging.basicConfig(level=logging.INFO,\n",
    "                    format='%(asctime)s %(levelname)s %(message)s')"
   ]
  },
  {
   "cell_type": "code",
   "execution_count": 5,
   "metadata": {
    "collapsed": false
   },
   "outputs": [
    {
     "name": "stdout",
     "output_type": "stream",
     "text": [
      "Performing grid search...\n",
      "pipeline: ['vect', 'tfidf', 'clf']\n",
      "parameters:\n",
      "{'clf__alpha': (1e-05, 1e-06),\n",
      " 'clf__penalty': ('l2', 'elasticnet'),\n",
      " 'vect__max_df': (0.5, 0.75, 1.0),\n",
      " 'vect__ngram_range': ((1, 1), (1, 2))}\n",
      "Fitting 3 folds for each of 24 candidates, totalling 72 fits\n"
     ]
    },
    {
     "name": "stderr",
     "output_type": "stream",
     "text": [
      "[Parallel(n_jobs=-1)]: Done  42 tasks      | elapsed:  1.8min\n",
      "[Parallel(n_jobs=-1)]: Done  72 out of  72 | elapsed:  3.0min finished\n"
     ]
    },
    {
     "name": "stdout",
     "output_type": "stream",
     "text": [
      "done in 188.983s\n",
      "\n",
      "Best score: 0.423\n",
      "Best parameters set:\n",
      "\tclf__alpha: 1e-05\n",
      "\tclf__penalty: 'l2'\n",
      "\tvect__max_df: 0.75\n",
      "\tvect__ngram_range: (1, 2)\n",
      "             precision    recall  f1-score   support\n",
      "\n",
      "   anorexia       0.63      0.92      0.75      5000\n",
      "    neither       0.62      0.51      0.56      5000\n",
      "    obesity       0.52      0.38      0.44      5000\n",
      "\n",
      "avg / total       0.59      0.60      0.58     15000\n",
      "\n"
     ]
    }
   ],
   "source": [
    "pipeline = Pipeline([\n",
    "    ('vect', CountVectorizer()),\n",
    "    ('tfidf', TfidfTransformer()),\n",
    "    ('clf', SGDClassifier()),\n",
    "])\n",
    "\n",
    "parameters = {\n",
    "    'vect__max_df': (0.5, 0.75, 1.0),\n",
    "    'vect__ngram_range': ((1, 1), (1, 2)),  # unigrams or bigrams\n",
    "    'clf__alpha': (0.00001, 0.000001),\n",
    "    'clf__penalty': ('l2', 'elasticnet'),\n",
    "}\n",
    "\n",
    "if __name__ == \"__main__\":\n",
    "    # multiprocessing requires the fork to happen in a __main__ protected\n",
    "    # block\n",
    "    # find the best parameters for both the feature extraction and the\n",
    "    # classifier\n",
    "    grid_search = GridSearchCV(pipeline, parameters, n_jobs=-1, verbose=1)\n",
    "\n",
    "    print(\"Performing grid search...\")\n",
    "    print(\"pipeline:\", [name for name, _ in pipeline.steps])\n",
    "    print(\"parameters:\")\n",
    "    pprint(parameters)\n",
    "    t0 = time()\n",
    "    grid_search.fit(train_data['body'].values.tolist(), \n",
    "                    train_data['category'].values.tolist())\n",
    "    print(\"done in %0.3fs\" % (time() - t0))\n",
    "    print()\n",
    "\n",
    "    print(\"Best score: %0.3f\" % grid_search.best_score_)\n",
    "    print(\"Best parameters set:\")\n",
    "    best_parameters_a = grid_search.best_estimator_.get_params()\n",
    "    for param_name in sorted(parameters.keys()):\n",
    "        print(\"\\t%s: %r\" % (param_name, best_parameters_a[param_name]))\n",
    "    \n",
    "    y_true, y_pred = test_data['category'].values.tolist(), grid_search.predict(test_data['body'].values.tolist()) \n",
    "    \n",
    "    print(classification_report(y_true, y_pred))"
   ]
  },
  {
   "cell_type": "code",
   "execution_count": null,
   "metadata": {
    "collapsed": true
   },
   "outputs": [],
   "source": []
  }
 ],
 "metadata": {
  "kernelspec": {
   "display_name": "Python 3",
   "language": "python",
   "name": "python3"
  },
  "language_info": {
   "codemirror_mode": {
    "name": "ipython",
    "version": 3
   },
   "file_extension": ".py",
   "mimetype": "text/x-python",
   "name": "python",
   "nbconvert_exporter": "python",
   "pygments_lexer": "ipython3",
   "version": "3.6.0"
  }
 },
 "nbformat": 4,
 "nbformat_minor": 2
}
