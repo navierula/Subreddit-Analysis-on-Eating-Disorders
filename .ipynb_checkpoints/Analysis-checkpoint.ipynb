{
 "cells": [
  {
   "cell_type": "code",
   "execution_count": 2,
   "metadata": {
    "collapsed": false
   },
   "outputs": [],
   "source": [
    "%matplotlib inline\n",
    "\n",
    "# import libraries\n",
    "import collections\n",
    "import hashlib\n",
    "import matplotlib.pyplot as plt\n",
    "import nltk\n",
    "from nltk.tokenize import word_tokenize\n",
    "from nltk.corpus import stopwords\n",
    "from nltk.probability import FreqDist\n",
    "from nltk.tag import pos_tag, map_tag\n",
    "import pandas as pd\n",
    "import string\n",
    "import re\n",
    "\n",
    "# load data\n",
    "anorexiaSubreddits = pd.read_csv(\"data/subreddits_anorexia.csv\", encoding='ISO-8859-1')\n",
    "obesitySubreddits = pd.read_csv(\"data/subreddits_obesity.csv\", encoding='ISO-8859-1')\n",
    "bothSubreddits = pd.read_csv(\"data/subreddits_both.csv\", encoding='ISO-8859-1')"
   ]
  },
  {
   "cell_type": "code",
   "execution_count": 3,
   "metadata": {
    "collapsed": true
   },
   "outputs": [],
   "source": [
    "# apply hash function to author column in each dataset\n",
    "anorexia_authors = anorexiaSubreddits.drop_duplicates(subset=\"author\")['author'].apply(lambda a: hashlib.md5(a.encode()).hexdigest()).to_frame()\n",
    "obesity_authors = obesitySubreddits.drop_duplicates(subset=\"author\")['author'].apply(lambda a: hashlib.md5(a.encode()).hexdigest()).to_frame()\n",
    "both_authors = bothSubreddits.drop_duplicates(subset=\"author\")['author'].apply(lambda a: hashlib.md5(a.encode()).hexdigest()).to_frame()"
   ]
  },
  {
   "cell_type": "code",
   "execution_count": 4,
   "metadata": {
    "collapsed": false
   },
   "outputs": [],
   "source": [
    "anorexiaSubreddits['hashedAuthors'] = anorexia_authors\n",
    "obesitySubreddits['hashedAuthors'] = obesity_authors\n",
    "bothSubreddits['hashedAuthors'] = both_authors"
   ]
  },
  {
   "cell_type": "code",
   "execution_count": 17,
   "metadata": {
    "collapsed": false
   },
   "outputs": [
    {
     "data": {
      "text/html": [
       "<div>\n",
       "<table border=\"1\" class=\"dataframe\">\n",
       "  <thead>\n",
       "    <tr style=\"text-align: right;\">\n",
       "      <th></th>\n",
       "      <th>author</th>\n",
       "    </tr>\n",
       "  </thead>\n",
       "  <tbody>\n",
       "    <tr>\n",
       "      <th>0</th>\n",
       "      <td>2e3cea450d14a67fac90de804c3984e0</td>\n",
       "    </tr>\n",
       "    <tr>\n",
       "      <th>1</th>\n",
       "      <td>9c02696b2e66a443afca156e917e03eb</td>\n",
       "    </tr>\n",
       "    <tr>\n",
       "      <th>2</th>\n",
       "      <td>87774818e97b0deba1982e3cf1d2d2e7</td>\n",
       "    </tr>\n",
       "    <tr>\n",
       "      <th>3</th>\n",
       "      <td>4391f26dc3b679280b2d091960f1f73c</td>\n",
       "    </tr>\n",
       "    <tr>\n",
       "      <th>4</th>\n",
       "      <td>ce035158b46aed8af92168dd6fa32ffa</td>\n",
       "    </tr>\n",
       "  </tbody>\n",
       "</table>\n",
       "</div>"
      ],
      "text/plain": [
       "                             author\n",
       "0  2e3cea450d14a67fac90de804c3984e0\n",
       "1  9c02696b2e66a443afca156e917e03eb\n",
       "2  87774818e97b0deba1982e3cf1d2d2e7\n",
       "3  4391f26dc3b679280b2d091960f1f73c\n",
       "4  ce035158b46aed8af92168dd6fa32ffa"
      ]
     },
     "execution_count": 17,
     "metadata": {},
     "output_type": "execute_result"
    }
   ],
   "source": [
    "# print example of anorexia_authors (hashed)\n",
    "anorexia_authors.head()"
   ]
  },
  {
   "cell_type": "markdown",
   "metadata": {},
   "source": [
    "# Analysis on Anorexia-Related Subreddits"
   ]
  },
  {
   "cell_type": "code",
   "execution_count": 24,
   "metadata": {
    "collapsed": false
   },
   "outputs": [
    {
     "data": {
      "text/html": [
       "<div>\n",
       "<table border=\"1\" class=\"dataframe\">\n",
       "  <thead>\n",
       "    <tr style=\"text-align: right;\">\n",
       "      <th></th>\n",
       "      <th>hashedAuthors</th>\n",
       "      <th>body</th>\n",
       "      <th>subreddit</th>\n",
       "      <th>subreddit_id</th>\n",
       "      <th>score</th>\n",
       "    </tr>\n",
       "  </thead>\n",
       "  <tbody>\n",
       "    <tr>\n",
       "      <th>0</th>\n",
       "      <td>2e3cea450d14a67fac90de804c3984e0</td>\n",
       "      <td>\"Anorexia survivor\". How many people do actual...</td>\n",
       "      <td>TumblrInAction</td>\n",
       "      <td>t5_2vizz</td>\n",
       "      <td>2</td>\n",
       "    </tr>\n",
       "    <tr>\n",
       "      <th>1</th>\n",
       "      <td>9c02696b2e66a443afca156e917e03eb</td>\n",
       "      <td>Feminism.  I thought it was all bra-burning ma...</td>\n",
       "      <td>AskReddit</td>\n",
       "      <td>t5_2qh1i</td>\n",
       "      <td>2</td>\n",
       "    </tr>\n",
       "    <tr>\n",
       "      <th>2</th>\n",
       "      <td>87774818e97b0deba1982e3cf1d2d2e7</td>\n",
       "      <td>This sounds like a bulimia/anorexia issue rath...</td>\n",
       "      <td>TalesFromYourServer</td>\n",
       "      <td>t5_2v480</td>\n",
       "      <td>11</td>\n",
       "    </tr>\n",
       "    <tr>\n",
       "      <th>3</th>\n",
       "      <td>4391f26dc3b679280b2d091960f1f73c</td>\n",
       "      <td>Work on the depression primarily. Its likely t...</td>\n",
       "      <td>AskReddit</td>\n",
       "      <td>t5_2qh1i</td>\n",
       "      <td>2</td>\n",
       "    </tr>\n",
       "    <tr>\n",
       "      <th>4</th>\n",
       "      <td>ce035158b46aed8af92168dd6fa32ffa</td>\n",
       "      <td>Much like with \"curves\" and \"anorexia\", fat pe...</td>\n",
       "      <td>fatlogic</td>\n",
       "      <td>t5_2wyxm</td>\n",
       "      <td>11</td>\n",
       "    </tr>\n",
       "  </tbody>\n",
       "</table>\n",
       "</div>"
      ],
      "text/plain": [
       "                      hashedAuthors  \\\n",
       "0  2e3cea450d14a67fac90de804c3984e0   \n",
       "1  9c02696b2e66a443afca156e917e03eb   \n",
       "2  87774818e97b0deba1982e3cf1d2d2e7   \n",
       "3  4391f26dc3b679280b2d091960f1f73c   \n",
       "4  ce035158b46aed8af92168dd6fa32ffa   \n",
       "\n",
       "                                                body            subreddit  \\\n",
       "0  \"Anorexia survivor\". How many people do actual...       TumblrInAction   \n",
       "1  Feminism.  I thought it was all bra-burning ma...            AskReddit   \n",
       "2  This sounds like a bulimia/anorexia issue rath...  TalesFromYourServer   \n",
       "3  Work on the depression primarily. Its likely t...            AskReddit   \n",
       "4  Much like with \"curves\" and \"anorexia\", fat pe...             fatlogic   \n",
       "\n",
       "  subreddit_id  score  \n",
       "0     t5_2vizz      2  \n",
       "1     t5_2qh1i      2  \n",
       "2     t5_2v480     11  \n",
       "3     t5_2qh1i      2  \n",
       "4     t5_2wyxm     11  "
      ]
     },
     "execution_count": 24,
     "metadata": {},
     "output_type": "execute_result"
    }
   ],
   "source": [
    "# print first 10 rows of anorexia-related subreddits\n",
    "# (minus original author column)\n",
    "anorexiaSubreddits[[\"hashedAuthors\", \"body\", \"subreddit\", \"subreddit_id\", \"score\"]].head()"
   ]
  },
  {
   "cell_type": "code",
   "execution_count": 40,
   "metadata": {
    "collapsed": false
   },
   "outputs": [
    {
     "data": {
      "text/plain": [
       "fatpeoplehate          251\n",
       "AskReddit              214\n",
       "fatlogic               207\n",
       "relationships           74\n",
       "TwoXChromosomes         32\n",
       "WTF                     30\n",
       "raisedbynarcissists     26\n",
       "Fitness                 25\n",
       "AskWomen                24\n",
       "loseit                  24\n",
       "Name: subreddit, dtype: int64"
      ]
     },
     "execution_count": 40,
     "metadata": {},
     "output_type": "execute_result"
    }
   ],
   "source": [
    "# most common subreddits posted to\n",
    "anorexiaSubreddits[\"subreddit\"].value_counts()[:10]"
   ]
  },
  {
   "cell_type": "markdown",
   "metadata": {},
   "source": [
    "- fatpeoplehate has been banned for violating subreddit rules: https://www.reddit.com/r/FatPeopleHate"
   ]
  },
  {
   "cell_type": "code",
   "execution_count": 15,
   "metadata": {
    "collapsed": false
   },
   "outputs": [
    {
     "data": {
      "image/png": "[encoded data removed]",
      "text/plain": [
       "<matplotlib.figure.Figure at 0x1183042e8>"
      ]
     },
     "metadata": {},
     "output_type": "display_data"
    },
    {
     "data": {
      "text/plain": [
       "<matplotlib.figure.Figure at 0x11810bda0>"
      ]
     },
     "metadata": {},
     "output_type": "display_data"
    }
   ],
   "source": [
    "labels = \"fatpeoplehate\", \"AskReddit\", \"fatlogic\", \"relationships\", \"TwoXChromosomes\", \"WTF\", \"raisedbynarcissists\", \"Fitness\", \"AskWomen\", \"loseit\"\n",
    "sizes = [251, 214, 207, 74, 32, 30, 26, 25, 24, 24]\n",
    "colors = [\"navajowhite\", \"aliceblue\", \"blanchedalmond\", \"lavenderblush\", \"honeydew\", \"lemonchiffon\",\"linen\", \"azure\", \"thistle\", \"beige\"]\n",
    "plt.pie(sizes, labels=labels, colors=colors,\n",
    "            autopct='%1.1f%%', shadow=False, startangle=90, pctdistance=1.13, labeldistance=1.4)\n",
    "plt.axis('equal')\n",
    "fig = plt.figure(figsize=(100,2))\n",
    "plt.show(fig)"
   ]
  },
  {
   "cell_type": "code",
   "execution_count": 53,
   "metadata": {
    "collapsed": false
   },
   "outputs": [],
   "source": [
    "# most common subreddits authors\n",
    "#anorexiaSubreddits[\"author\"].value_counts()[:10] --> commented out to anonymize data"
   ]
  },
  {
   "cell_type": "code",
   "execution_count": 18,
   "metadata": {
    "collapsed": true
   },
   "outputs": [],
   "source": [
    "# map author to body of text\n",
    "scoreDict = anorexiaSubreddits.set_index('author')['body'].to_dict()"
   ]
  },
  {
   "cell_type": "code",
   "execution_count": 68,
   "metadata": {
    "collapsed": false
   },
   "outputs": [],
   "source": [
    "#nltk.help.upenn_tagset()"
   ]
  },
  {
   "cell_type": "code",
   "execution_count": 60,
   "metadata": {
    "collapsed": false
   },
   "outputs": [
    {
     "name": "stdout",
     "output_type": "stream",
     "text": [
      "These are the most common words: [('even', 405), ('also', 399), ('really', 382), ('anorexia', 336), ('much', 327), ('fat', 323), ('mental', 278), ('healthy', 253), ('still', 247), ('good', 237), ('never', 235), ('better', 207), ('well', 198), ('actually', 187), ('many', 164), ('always', 154), ('long', 145), ('bad', 142), ('normal', 139), ('enough', 136), ('right', 135), ('probably', 134), ('back', 131), ('first', 130), ('little', 125), ('pretty', 122), ('hard', 118), ('thin', 117), ('different', 116), ('less', 115), ('eating', 112), ('sure', 111), ('best', 111), ('anorexic', 110), ('ever', 108), ('able', 105), ('last', 104), ('high', 99), ('weight', 96), ('maybe', 93), ('least', 92), ('skinny', 91), ('great', 90), ('often', 87), ('old', 85), ('unhealthy', 85), ('real', 81), ('physical', 80), ('medical', 79), ('underweight', 78), ('almost', 78), ('sometimes', 78), ('away', 77), ('serious', 75), ('wrong', 74), ('far', 73), ('obese', 73), ('likely', 73), ('big', 71), ('else', 70), ('happy', 68), ('diet', 68), ('definitely', 67), ('usually', 66), ('overweight', 65), ('instead', 64), ('due', 64), ('similar', 63), ('low', 62), ('whole', 62), ('full', 62), ('especially', 60), ('social', 60), ('possible', 58), ('small', 58), ('completely', 57), ('already', 55), ('however', 55), ('seriously', 55), ('certain', 54), ('rather', 52), ('worse', 52), ('important', 52), ('finally', 50), ('literally', 49), ('obviously', 49), ('severe', 49), ('common', 48), ('psychological', 48), ('human', 47), ('new', 47), ('nice', 45), ('absolutely', 45), ('yet', 45), ('true', 45), ('strong', 44), ('quite', 44), ('honestly', 44), ('gt', 43), ('self', 43), ('later', 42)] \n",
      "\n",
      "These are the most uncommon words: [('website', 1), ('coarse', 1), ('trustworthy', 1), ('gossip', 1), ('luirrvvely', 1), ('seventeenth', 1), ('polly', 1), ('holistic', 1), ('hindra', 1), ('anytime', 1), ('gigantic', 1), ('underl', 1), ('runaway', 1), ('ambivalent', 1), ('ekonomi', 1), ('tramatic', 1), ('ankle', 1), ('countless', 1), ('beliefs', 1), ('undeniable', 1), ('precise', 1), ('underfed', 1), ('remarkably', 1), ('dutch', 1), ('nailed', 1), ('nedic', 1), ('bite', 1), ('underwent', 1), ('nonoverweight', 1), ('fattest', 1), ('fiancees', 1), ('honoring', 1), ('avg', 1), ('crushingly', 1), ('bet', 1), ('thirst', 1), ('prenatal', 1), ('lively', 1), ('meaner', 1), ('eccentric', 1), ('moronic', 1), ('slept', 1), ('north', 1), ('impacted', 1), ('agonizing', 1), ('pressed', 1), ('anorexie', 1), ('fexaramine', 1), ('elegant', 1), ('bossiness', 1)] \n",
      "\n"
     ]
    }
   ],
   "source": [
    "# strip punctuation from all body comments\n",
    "bodyList = []\n",
    "for val in anorexiaSubreddits[\"body\"]:\n",
    "    val = re.sub(\"[^a-zA-Z]+\", \" \", val)\n",
    "    bodyList.append(val)\n",
    "\n",
    "# tokenize each work, using nltk_tokenize\n",
    "tokenList = []\n",
    "for sentence in bodyList:\n",
    "    tokens = nltk.word_tokenize(sentence)\n",
    "    tokenList.append(tokens)\n",
    "\n",
    "# add POS tags to words\n",
    "taggedList = []\n",
    "for item in tokenList:\n",
    "    item = pos_tag(item)\n",
    "    taggedList.append(item)\n",
    "    #taggedList.append([(word, map_tag('en-ptb', 'universal', tag)) for word, tag in pos_tag(item)])\n",
    "#print(taggedList)\n",
    "\n",
    "# choose the most relevant words to consider,\n",
    "# according to tags\n",
    "relevantList = []\n",
    "count = 0\n",
    "for i in taggedList:\n",
    "    for j in i:\n",
    "        #if j[1] == \"JJ\" or j[1] == \"JJR\" or j[1] == \"JJS\" or j[1] == \"NN\" or j[1] == \"RBR\" or j[1] == \"RBS\" or j[1] == \"RB\" or j[1] == \"VB\" or j[1] == \"VBD\" or j[1] == \"VBG\":\n",
    "        if j[1] == \"JJ\" or j[1] == \"JJR\" or j[1] == \"JJS\" or j[1] == \"RBR\" or j[1] == \"RBS\" or j[1] == \"RB\":\n",
    "            relevantList.append(j[0].lower()) # it seems as if adjectives and adverbs are the most telling\n",
    "            \n",
    "# remove stopwords\n",
    "finalList = [word for word in relevantList if word not in stopwords.words('english')]\n",
    "\n",
    "fdist = FreqDist(finalList)\n",
    "common = fdist.most_common()[0:101] # not including \"anorexia\"\n",
    "uncommon = list(reversed(fdist.most_common()))[:50]\n",
    "print(\"These are the most common words:\",common, \"\\n\")\n",
    "print(\"These are the most uncommon words:\", uncommon, \"\\n\")"
   ]
  },
  {
   "cell_type": "code",
   "execution_count": 65,
   "metadata": {
    "collapsed": false,
    "scrolled": false
   },
   "outputs": [
    {
     "name": "stdout",
     "output_type": "stream",
     "text": [
      "I was diagnosed by Anorexia bulimic subtype before I was diagnosed with Bipolar I I ate an apple a day and spent hours a day on the treadmill everyday or I wouldn t be able to sleep or concentrate on anything I had a hard time sticking to my Lithium regiment because I was so terrified of gaining weight Thankfully Lamictal does a pretty good job of quieting both my bipolar and eating disorder I ve been told that anorexia occurs pretty frequently along side bipolar because of the effect that starvation and overexercising has in stabilizing our moods not to mention creating a sense of control when we re stuck in shitty situations we can t escape from Also if you want to read a really good book having to do mostly about Bipolar but also EDs I d read Madness by Marya Hornbacher really good book but sad as well I was surprised by how much I could empathize with her it really helped me come to terms with my diagnosis and feel less alone \n",
      "\n",
      "I m glad You have posted this because I am having the same problem I ve always been petite but definitely in a healthy way I m and female and at my heaviest I think I made it to a junior s I never had an eating issue throughout high school I used to be very fit nothing but lean muscle At I had my son Xander baby weight dropped almost immediately but even then my appetite was normal Its been the past years I think I ve seen a change from just being petite to unhealthy skinny I just can t eat That s not to say I don t love food because I do I thought maybe it was because of my tastes even as a kid I was never into candy or real sweet and sugary things like birthday cake cinnamon rolls Never was a big pasta eater can t stand chocolate So in general I ve never delved into unhealthy cravings Cravings for me are things like granola nuts dried fruit and tons of meat I used to be able to eat steaks to myself no sides no sauce just meat meat meat iron deficiency I ve considered depression a reason for lack of appetite but even though things aren t perfect in my life they re not that bad either I own my condo my son is amazing my job sucks but it s not a strenuous one so I m unsure I m a tomboy so lack of eating to stay skinny to look good is not my forte so I was reluctant to call it anorexia nervosa Sometimes I gt stomach pains but even then after a few minutes they go away and by the time I ve decided to do something about it I m not hungry anymore I still go out to eat with friends and family almost always have to take boxes home When I do eat all my food I feel lethargic heavy but full but one large meal is enough to last me that whole day and the full next before I remember to eat Ive been trying to eat every couple hours some cashews here a half sandwhich there etc sometimes it works sometimes it doesn t I even went to smoking weed all last year At first it totally helped the munchies get pretty real but during the end of that reign even smoking out of the big bong wouldn t boost my appetite so I gave it up I know it s unhealthy because now I get sick easily I lose energy fast and paired with sleeping problems I m becoming a wreck Can t sleep can t eat sucks Can t tell if it s mental or physical Went to the hospital fainted not only was I dehydrated but I had such low potassium in my body that my heart began defibrillating Even wearing glasses I think my vision is getting worse \n",
      "\n",
      "I stuck with it for years I really wanted it to be true I really like sweet fruit but I also craved avocados so bad since my body needed fat and I would feel so incredibly guilty if I ate one plus I had trouble digesting fats and vegetables from weakening my digestion eating nothing but sweet fruit I absolutely did not lose weight but gained Ok wall of text no need to read but maybe others have had a similar experience I had severe stomach pains eating fruit meals When I was living in Thailand my stomach hurt more than ever melon belly as they call it eating all sweet fruits other than papaya dragon fruit and mangosteen I felt sick eating bananas I ve discovered I think that I m allergic to them stomach cramps mouth itch face flush no matter how ripe I eventually started eating some cooked foods for dinner low fat vegetables and rice because I couldn t find enough good papayas most of the available ones in the mountain village I was living in tasted like gross beer in the off season and mangosteen dragon fruit are very expensive The pain got so bad at one point I could only handle cucumbers which I dipped in honey lemon cayenne then even honey hurt yet my weight shot up lbs It was probably water weight and inflammation from sun poisoning and digestive issues but still It dropped to ish when I returned to the northeast USA but I was also restricting my intake and eating very little but all raw vegan I still maintained a chubbier physique than I liked no matter how clean I ate even when juice fasting on watered down grapefruit juice and managing to drop my weight the same it is now my body composition was different I wasn t fat or overweight just not as lean as I felt I should have been with eating almost nothing but fruit greens and super low fat My calories stayed around most days I m was around lbs most of the time then fairly active so I was eating at a deficit according to calculators Reducing my fruit consumption a bit and adding small amounts of animal products more fat got me to on average My calorie intake is about the same now usually between mostly fat moderate protein under g net carbs usually less activity level is increased but I ve gone back up to after having dropped to a month ago first month on keto this round Maybe muscle but I took two weeks off working out other than squats and yoga to see if it would drop but it didn t Interesting that I haven t lost much even gained weight recently while keeping a better body composition on keto than when I dropped to this same weight juice fasting I have the thigh gap didn t on fruit less belly fat lost an inch on my waist more on my hips and a smaller more perky butt from squatting more Would love the scale to drop again hoping for ish but I think my bmr is probably lower than calculated due to a long bout with anorexia and on off restricting after recovery throughout all my teens and early s so I have to eat a higher deficit My body temp is generally a little low and my bp is always pretty low I m trying to dispel the ED thoughts and behaviors so I m focusing on not restricting intake too much until my mindset is healthier \n",
      "\n",
      " Bad joints Not arthritis but an alignment issue in my hips of unknown origin A doctor has looked at me and my gait said there s something messed up you need to see an orthopedist I ve just never followed up What this boils down to is that I walk funny and running at all and walking distances of more than mile are painful I compensate by doing things like yoga when I can be arsed to exercise Meds that cause weight gain I ve been on a number over the years Some made me hungrier one made me sleep eat Chips and cookies were my sleeping snacks of choice but almost always carbs To be honest I started out taking those meds when I was recovering from anorexia At that point I could have put on lbs before the biggest shitlord doctor would have said put down the cake Even while not monitoring my intake and eating shit like frosted sugar cookies for breakfast I was putting on weight at a pretty slow clip less than lb a month I also stabilized on my own while still eating shit So on that one I wasn t really trying \n",
      "\n",
      "This is true but anorexia has a pretty specific requirements for diagnosis gt Persistent restriction of energy intake leading to significantly low body weight in context of what is minimally expected for age sex developmental trajectory and physical health gt Either an intense fear of gaining weight or of becoming fat or persistent behaviour that interferes with weight gain even though significantly low in weight gt Disturbance in the way one s body weight or shape is experienced undue influence of body shape and weight on self evaluation or persistent lack of recognition of the seriousness of the current low body weight I don t believe binge eating disorder followed by bouts of abstinence is called anorexia nor do I think it s treated like anorexia I m not an expert though \n",
      "\n",
      "I was diagnosed with anorexia nervosa when I was seventeen and was in and out of treatment until I was about twenty one I haven t been behavior symptom free for a solid two years since I was a teenager but those days are few now and I have maintained a healthy weight since my early twenties I m what they d call in recovery which is what I put on my health history forms both when applying to the Peace Corps and the previous organization with which I worked That being said I moved to Tanzania when I was twenty four and straddled the relapse line pretty hard for several months at the beginning due to homesickness lack of my support system and a change of diet That last one is HUGE particularly for folks who share most meals with a HCN as I did I went from having a familiar and safe meal plan to eating what felt like incessantly Everyone wanted to offer me food and it was considered rude to refuse their generosity Sometimes I ate multiple dinners a night I d encourage your friend to think about what her support system looks like What helps her stay on track in her recovery Will she still be able to access those things while serving in the Peace Corps What would she do if she did relapse and where how would she reach out There are some countries where eating disorders are a completely foreign concept so finding support could be difficult Most importantly why does she want to be in recovery Sometimes all you can hold on to is the wanting y know \n",
      "\n"
     ]
    }
   ],
   "source": [
    "# anecdotes containing the most common words\n",
    "listOfWords = [\"eating\", \"weight\", \"pretty\", \"weight\"]\n",
    "count = 0\n",
    "for sentence in bodyList:\n",
    "    if all(word in sentence for word in listOfWords):\n",
    "        if count <= 5:\n",
    "            print(sentence + \"\\n\")\n",
    "            count += 1"
   ]
  },
  {
   "cell_type": "code",
   "execution_count": 3,
   "metadata": {
    "collapsed": false
   },
   "outputs": [
    {
     "name": "stdout",
     "output_type": "stream",
     "text": [
      "779 : The yuppie, neo-hippie, ultra-liberals and their fear of GMO, preservatives and non-organic food. \n",
      "\n",
      "This is a completely uneducated opinion that I base off nothing but it seems like a money making scheme of bullshit. I mean, if you eat your fair share of veggies, avoid fried foods and cakes/cookies, stay around 1200 calories a day, exercise regularly and take vitamins I doubt your health will be suffering much because you ate a non organic carrot. \n",
      "\n",
      "EDIT: Apparently 1200 is anorexia. I got that number from a weight loss app. So yeah, 2000 calories or more if you are super tall, my bad.  \n",
      "\n",
      "418 : Wow. This is awful. Regardless of whether or not she will develop a clinical eating disorder, your husband is abusive, and damaging her self image when she's at an age that it's under attack by peers and the media.\n",
      "\n",
      "First thing I'd do is talk with her pediatrician. He or she can help you plan a strategy including medical and psychological (therapy) help for your daughter, and couples or family therapy for the two of you.  This is very serious business. People die from eating disorders. Between organ failure and suicide, Anorexia Nervosa is the most lethal of all mental illnesses. I have been involved with the eating disorder community for years, between my own recovery and my daughter's, and I know people who've died both ways. I know of even more suicide attempts. Last thing this world needs again is another light put out by this terrible illness.\n",
      "\n",
      "Next thing you have to do is talk with your husband, armed with information you get from your daughter's pediatrician.  Suggest that the two of you go to the recommended family/couples therapist. You also have to set boundaries and very clearly indicate what things are unacceptable for him to say, ever. He also needs to apologize to her and commit to never cross those boundaries again. Be with him when he apologizes, and offer your own apologies for not standing up sooner. \n",
      "\n",
      "If your husband were physically abusing your daughter, you would do whatever you needed to do to stop the abuse, wouldn't you? You need to be prepared to do that here too. If you have to leave him and take her with you, then that's what you have to do. Obviously, you don't want to start with this card, but you need to keep it in mind and play it if you must. \n",
      "\n",
      "edit: You might have assumed that I'm a mom, given that I had AN myself. I'm not. I'm a dad, and husband myself. Even my wife and I chose to do family/couples therapy ourselves, even though we both understood our daughter needed help, because this is hard. \n",
      "\n",
      "404 : I have anorexia. \n",
      "I think the most common misconception is that it is about being thin. I have honestly never met a person who developed an eating disorder because they wanted to look like some photoshopped model. For us, its about perfection and control, it just so happens that thinness is a trait that our society admires, which is why we strive to achieve it. At a certain point, you are intellectually aware that you are not attractive and dying, but this irrational little part of your brain won't let you eat because you're still too big. There is no such thing as \"small enough\", once the disease takes hold no amount of weight loss can satisfy. \n",
      "\n",
      "EDIT: Wow, I am loving all of the responses, and the discussion that we are having! If any of you have any questions about anything, please feel free to message me! \n",
      "\n",
      "392 : Oh, don't you know? Being fat isn't a result of diet and exercise level, it's all because of muh genetics and cundishuns. To say someone can lose weight is fatphobic, because diets are literally anorexia. In fact, not shoveling grease, salt, and sugar down your gaping hamplanet maw 24/7 is literally anorexia. Eat a sandwich and grow some luirrvvely cuhrves. \n",
      "\n",
      "336 : 1200 calories a day? \n",
      "That sounds like a fast route to anorexia. \n",
      "\n",
      "---------------------------------------------------------------------------------------------------------------------\n",
      "-34 : I think if we come down hard on the fatties we should treat the anorexia sufferers the same. Both have body distortion and self control issues as well as a failure to see the reality they created themselves. \n",
      "\n",
      "-28 : This is not healthy. This girl has next to no muscle or fat on her at all. This is just one step above how the girls receiving treatment for anorexia look\n",
      "\n",
      "Edit: downvotes for agreeing that the girl is too thin. Mind boggling the support here for being unhealthy \n",
      "\n",
      "-18 : It's still a body type. When someone is anorexic, you can pretty much tell just by the way they look (Way underweight, sick looking, slow, etc).\n",
      "\n",
      "We aren't fatties here who say you can't judge someone's health by looking at them. Yes you can. An anorexic has a specific body type, so even though anorexia is a mental illness, it's also safe to use it as a body type.\n",
      "\n",
      "Either way, the chick in the picture is not even remotely anorexic. \n",
      "\n",
      "-17 : As a 'curvy' former fattie I gotta say that song is so annoying that it makes me wish I had anorexia.  \n",
      "\n",
      "-12 : Bullying, verbal and physical, can lead to depression, self-harm, and, in cases of this subject, eating disorders. I know you guys would probably prefer someone to suffer from anorexia than be fat, but imagine if this happened in a high school instead of with adults. Also, why should anyone have the right to come up to a stranger and poor a liquid on them. Fat or not if someone did that to me it wouldn't motivate me to do what they want, I'd get up and punch the shit out of them. Clearly that lady had self-esteem issues anyways if her response to some dickshit pouring a beverage on her was \"I should do what he says\" \n",
      "\n"
     ]
    }
   ],
   "source": [
    "scoreDict = anorexiaSubreddits.set_index('score')['body'].to_dict()\n",
    "\n",
    "topScoreCount = 0\n",
    "for score, body in sorted(scoreDict.items(),reverse = True):\n",
    "    if topScoreCount != 5:\n",
    "        print(score, \":\" ,body, \"\\n\")\n",
    "        topScoreCount += 1\n",
    "print (\"---------------------------------------------------------------------------------------------------------------------\")        \n",
    "bottomScoreCount = 0\n",
    "for score, body in sorted(scoreDict.items()):\n",
    "    if bottomScoreCount != 5:\n",
    "        print(score, \":\" ,body, \"\\n\")\n",
    "        bottomScoreCount += 1"
   ]
  },
  {
   "cell_type": "markdown",
   "metadata": {},
   "source": [
    "# Analysis on Obesity-Related Subreddits"
   ]
  },
  {
   "cell_type": "code",
   "execution_count": 9,
   "metadata": {
    "collapsed": false
   },
   "outputs": [
    {
     "data": {
      "text/html": [
       "<div>\n",
       "<table border=\"1\" class=\"dataframe\">\n",
       "  <thead>\n",
       "    <tr style=\"text-align: right;\">\n",
       "      <th></th>\n",
       "      <th>hashedAuthors</th>\n",
       "      <th>body</th>\n",
       "      <th>subreddit</th>\n",
       "      <th>subreddit_id</th>\n",
       "      <th>score</th>\n",
       "    </tr>\n",
       "  </thead>\n",
       "  <tbody>\n",
       "    <tr>\n",
       "      <th>0</th>\n",
       "      <td>d9ccb6eaa68d1b3ea3dd432e48c6bfff</td>\n",
       "      <td>I'M pissed that the dancing girl fat girl got ...</td>\n",
       "      <td>RagenChastain</td>\n",
       "      <td>t5_323a3</td>\n",
       "      <td>4.0</td>\n",
       "    </tr>\n",
       "    <tr>\n",
       "      <th>1</th>\n",
       "      <td>24654918653efa65253028b1a8474c61</td>\n",
       "      <td>Well..when someone is obese its obvious when y...</td>\n",
       "      <td>TumblrInAction</td>\n",
       "      <td>t5_2vizz</td>\n",
       "      <td>1.0</td>\n",
       "    </tr>\n",
       "    <tr>\n",
       "      <th>2</th>\n",
       "      <td>f259124ebfbfa451037cfe9639ca73c6</td>\n",
       "      <td>For the last 100,000 years of humanity obesity...</td>\n",
       "      <td>sex</td>\n",
       "      <td>t5_2qh3p</td>\n",
       "      <td>5.0</td>\n",
       "    </tr>\n",
       "    <tr>\n",
       "      <th>3</th>\n",
       "      <td>e4ed7d00769cb2ecc997d94c60d5dcd3</td>\n",
       "      <td>The EU courts now says that obesity is a disab...</td>\n",
       "      <td>videos</td>\n",
       "      <td>t5_2qh1e</td>\n",
       "      <td>1.0</td>\n",
       "    </tr>\n",
       "    <tr>\n",
       "      <th>4</th>\n",
       "      <td>9bffc299b5a7a7f8980c28564ca12687</td>\n",
       "      <td>Its amazing how obesity ages people. She looks...</td>\n",
       "      <td>fatpeoplehate</td>\n",
       "      <td>t5_2x9xz</td>\n",
       "      <td>2.0</td>\n",
       "    </tr>\n",
       "  </tbody>\n",
       "</table>\n",
       "</div>"
      ],
      "text/plain": [
       "                      hashedAuthors  \\\n",
       "0  d9ccb6eaa68d1b3ea3dd432e48c6bfff   \n",
       "1  24654918653efa65253028b1a8474c61   \n",
       "2  f259124ebfbfa451037cfe9639ca73c6   \n",
       "3  e4ed7d00769cb2ecc997d94c60d5dcd3   \n",
       "4  9bffc299b5a7a7f8980c28564ca12687   \n",
       "\n",
       "                                                body       subreddit  \\\n",
       "0  I'M pissed that the dancing girl fat girl got ...   RagenChastain   \n",
       "1  Well..when someone is obese its obvious when y...  TumblrInAction   \n",
       "2  For the last 100,000 years of humanity obesity...             sex   \n",
       "3  The EU courts now says that obesity is a disab...          videos   \n",
       "4  Its amazing how obesity ages people. She looks...   fatpeoplehate   \n",
       "\n",
       "  subreddit_id  score  \n",
       "0     t5_323a3    4.0  \n",
       "1     t5_2vizz    1.0  \n",
       "2     t5_2qh3p    5.0  \n",
       "3     t5_2qh1e    1.0  \n",
       "4     t5_2x9xz    2.0  "
      ]
     },
     "execution_count": 9,
     "metadata": {},
     "output_type": "execute_result"
    }
   ],
   "source": [
    "# print first five values of dataset\n",
    "obesitySubreddits[[\"hashedAuthors\", \"body\", \"subreddit\", \"subreddit_id\", \"score\"]].head(5)"
   ]
  },
  {
   "cell_type": "code",
   "execution_count": 10,
   "metadata": {
    "collapsed": false
   },
   "outputs": [
    {
     "data": {
      "text/plain": [
       "fatpeoplehate     1055\n",
       "AskReddit         1041\n",
       "fatlogic           953\n",
       "funny              191\n",
       "todayilearned      165\n",
       "science            152\n",
       "WTF                142\n",
       "worldnews          130\n",
       "Fitness            129\n",
       "TumblrInAction     128\n",
       "Name: subreddit, dtype: int64"
      ]
     },
     "execution_count": 10,
     "metadata": {},
     "output_type": "execute_result"
    }
   ],
   "source": [
    "# most common subreddits posted to\n",
    "obesitySubreddits[\"subreddit\"].value_counts()[:10]"
   ]
  },
  {
   "cell_type": "code",
   "execution_count": 14,
   "metadata": {
    "collapsed": false
   },
   "outputs": [
    {
     "data": {
      "image/png": "[encoded data removed]",
      "text/plain": [
       "<matplotlib.figure.Figure at 0x1182b4f28>"
      ]
     },
     "metadata": {},
     "output_type": "display_data"
    }
   ],
   "source": [
    "labels = \"fatpeoplehate\", \"AskReddit\", \"fatlogic\", \"funny\", \"todayilearned\", \"science\", \"WTF\", \"worldnews\", \"Fitness\", \"TumblrinAction\"\n",
    "sizes = [1055, 1041, 953, 191, 165, 152, 142, 130, 129, 128]\n",
    "colors = [\"navajowhite\", \"lavenderblush\", \"aliceblue\", \"honeydew\", \"blanchedalmond\", \"lemonchiffon\",\"linen\", \"azure\", \"thistle\", \"beige\"]\n",
    "plt.pie(sizes, labels=labels, colors=colors,\n",
    "            autopct='%1.1f%%', shadow=False, startangle=90, pctdistance=1.1, labeldistance=1.4)\n",
    "plt.axis('equal')\n",
    "plt.show(fig)"
   ]
  },
  {
   "cell_type": "code",
   "execution_count": 4,
   "metadata": {
    "collapsed": false
   },
   "outputs": [],
   "source": [
    "# most common subreddits authors\n",
    "# obesitySubreddits[\"author\"].value_counts()[:10]\n",
    "# (hidden to protect user data)"
   ]
  },
  {
   "cell_type": "code",
   "execution_count": 11,
   "metadata": {
    "collapsed": true
   },
   "outputs": [],
   "source": [
    "# create dictionary to match author with body (aka: Who wrote what?)\n",
    "scoreDict = obesitySubreddits.set_index('author')['body'].to_dict()"
   ]
  },
  {
   "cell_type": "code",
   "execution_count": 12,
   "metadata": {
    "collapsed": false
   },
   "outputs": [
    {
     "name": "stdout",
     "output_type": "stream",
     "text": [
      "These are the most common words: [('fat', 2980), ('obese', 1831), ('also', 1552), ('even', 1535), ('much', 1489), ('healthy', 1412), ('really', 1245), ('good', 1102), ('many', 1027), ('still', 885), ('well', 881), ('high', 839), ('actually', 802), ('less', 779), ('bad', 734), ('better', 642), ('never', 640), ('unhealthy', 621), ('long', 570), ('low', 557), ('diet', 557), ('weight', 543), ('overweight', 539), ('probably', 521), ('first', 504), ('pretty', 490), ('medical', 486), ('little', 484), ('right', 475), ('always', 461), ('back', 452), ('enough', 450), ('poor', 448), ('different', 447), ('sure', 437), ('however', 421), ('likely', 416), ('normal', 410), ('far', 400), ('wrong', 396), ('due', 393), ('hard', 376), ('lower', 365), ('ever', 355), ('big', 353), ('higher', 347), ('instead', 347), ('least', 346), ('often', 336), ('great', 331), ('real', 322), ('whole', 315), ('else', 313), ('www', 310), ('best', 304), ('new', 301), ('maybe', 300), ('full', 300), ('true', 296), ('physical', 296), ('last', 291), ('able', 288), ('especially', 286), ('human', 281), ('old', 275), ('rather', 273), ('already', 273), ('mental', 272), ('thin', 269), ('social', 268), ('large', 265), ('almost', 263), ('certain', 262), ('huge', 261), ('simply', 256), ('http', 256), ('average', 255), ('important', 250), ('general', 243), ('american', 237), ('free', 237), ('public', 230), ('possible', 228), ('worse', 227), ('gt', 227), ('completely', 225), ('fast', 224), ('usually', 223), ('u', 222), ('common', 221), ('small', 219), ('attractive', 218), ('obesity', 216), ('serious', 216), ('yet', 213), ('skinny', 209), ('easy', 206), ('personal', 204), ('happy', 203), ('quite', 198), ('extra', 198)] \n",
      "\n",
      "These are the most uncommon words: [('nourish', 1), ('homemade', 1), ('portal', 1), ('superpower', 1), ('pickled', 1), ('propaganda', 1), ('nrcardio', 1), ('intimately', 1), ('mentioned', 1), ('shoddier', 1), ('publish', 1), ('understaffed', 1), ('centered', 1), ('cheek', 1), ('unsound', 1), ('instantaneously', 1), ('way', 1), ('alluring', 1), ('deviantart', 1), ('forgiveable', 1), ('mindfulness', 1), ('chiseled', 1), ('fussy', 1), ('asparagus', 1), ('point', 1), ('unconditionally', 1), ('xl', 1), ('subside', 1), ('advise', 1), ('biodegradable', 1), ('inebriated', 1), ('therein', 1), ('iq', 1), ('guns', 1), ('neurovascular', 1), ('loaded', 1), ('watered', 1), ('recognize', 1), ('mundane', 1), ('pinto', 1), ('homogenized', 1), ('unhappier', 1), ('cramped', 1), ('hedonistic', 1), ('perceivable', 1), ('jst', 1), ('charitable', 1), ('appear', 1), ('vicariously', 1), ('outspokenly', 1)] \n",
      "\n"
     ]
    }
   ],
   "source": [
    "# remove punctuation from body\n",
    "bodyList = []\n",
    "for val in obesitySubreddits[\"body\"]:\n",
    "    val = re.sub(\"[^a-zA-Z]+\", \" \", val)\n",
    "    bodyList.append(val)\n",
    "\n",
    "# tokenize each work, using nltk_tokenize\n",
    "tokenList = []\n",
    "for sentence in bodyList:\n",
    "    tokens = nltk.word_tokenize(sentence)\n",
    "    tokenList.append(tokens)\n",
    "\n",
    "# add POS tags to words\n",
    "taggedList = []\n",
    "for item in tokenList:\n",
    "    item = pos_tag(item)\n",
    "    taggedList.append(item)\n",
    "    #taggedList.append([(word, map_tag('en-ptb', 'universal', tag)) for word, tag in pos_tag(item)])\n",
    "#print(taggedList)\n",
    "\n",
    "# choose the most relevant words to consider,\n",
    "# according to tags\n",
    "relevantList = []\n",
    "count = 0\n",
    "for i in taggedList:\n",
    "    for j in i:\n",
    "        #if j[1] == \"JJ\" or j[1] == \"JJR\" or j[1] == \"JJS\" or j[1] == \"NN\" or j[1] == \"RBR\" or j[1] == \"RBS\" or j[1] == \"RB\" or j[1] == \"VB\" or j[1] == \"VBD\" or j[1] == \"VBG\":\n",
    "        if j[1] == \"JJ\" or j[1] == \"JJR\" or j[1] == \"JJS\" or j[1] == \"RBR\" or j[1] == \"RBS\" or j[1] == \"RB\":\n",
    "            relevantList.append(j[0].lower()) # it seems as if adjectives and adverbs are the most telling\n",
    "            \n",
    "# remove stopwords\n",
    "finalList = [word for word in relevantList if word not in stopwords.words('english')]\n",
    "\n",
    "fdist = FreqDist(finalList)\n",
    "common = fdist.most_common()[0:101] # not including \"anorexia\"\n",
    "uncommon = list(reversed(fdist.most_common()))[:50]\n",
    "print(\"These are the most common words:\",common, \"\\n\")\n",
    "print(\"These are the most uncommon words:\", uncommon, \"\\n\")"
   ]
  },
  {
   "cell_type": "code",
   "execution_count": 14,
   "metadata": {
    "collapsed": false
   },
   "outputs": [
    {
     "name": "stdout",
     "output_type": "stream",
     "text": [
      "Reading your last paragraph I feel your heart in the right place and I agree that it s not okay to bully someone However having empathy doesn t make excuses and enabling acceptable You are in denial and trying to come up with reasons why a person is obese Genetics determine where fat is distributed and may determine how mentally hungry you are It s very uncommon for a person to become obese due to illness or medication Genetics doesn t make fat out of thin air and unless we re overeating our bodies don t accumulate and hold onto fat forever fat is our energy reserves You say that income have an effect on weight so that s saying that exercising gym membership and a low calorie diet kale are what makes a person slim not genetics I m a young Asian woman We re apparently known to be naturally skinny That s complete nonsense When I consume more than my TDEE I get fat I m underweight now because I m not consuming many calories You ll see the opposite in developing countries where the fatter population are the wealthy because they can afford more food I m not exactly wealthy I never had a gym membership I eat healthy and junk food and sometimes I don t work out but I lost weight mainly by eating less It doesn t cost anything to eat less and run outside It should actually save money Your metabolism claim which I disproved and your claim that your friend is eating as much as you do from what you observed are speculation and pseudoscience Even if he does have a low metabolic rate he can speed it up by eating less eating more nutritious food and exercising more Your friend is fat because he eats more than he burns not because of a disorder or genetics You ve typed a lot so there may be other false statements I haven t addressed Regardless of what is causing his obesity your friend is without a doubt unhealthy and at risk of health problems in the future He can change that I haven t read what you replied to yet but to be clear calling someone fat when they are fat stating a preference and emphasising the causes and effects of obesity aren t bullying \n",
      "\n",
      "i can see that my brother is still victim of this coping mechanism he developed really early in his life he knows how to eat properly and correct portion sizes but he conditioned his brain and the hormonal systems involved in digestion early on to this coping method he eats too much and eats unhealthy things for very complex reasons but i absolutely consider it to be part of at the very least a mental battle for me i learned early on to cope with my own mental and emotional issues by consuming excessive quantities of my chronic pain medication i never became fat because by the time i was i was under eating due to a severe heroin addiction my brother and i had nearly the same problems but i ended up and pounds and he ended up and pounds literally twice my weight we have very similar genetics needless to say people with mental issues can develop all kinds of coping mechanisms it all depends on which one they discover first after they do something which gives them some kind of relief they continue doing it and their brain makes it more and more powerful even on a microscopic scale you ve got long term potentiation which is a kind of mechanism for this kind of addiction to develop i shouldn t have been using dope and he shouldn t have been eating so much in my mind they were exactly the same behavior but in reward for using dope i got sympathy people thought i was edgy and mysterious even beautiful girls thought i was sexy and dark and i had pretty much zero health consequences obviously there are other terrible things that could have happened to me but i guess i was careful and lucky my brother on the other hand became so fat it made him even more depressed which made him even more fat nobody really wanted to be his friend certainly nobody ever even considered having sexual thoughts about him he didn t date until he was like and then he dated an equally fat woman so he totally could have turned around his behavior and i know he doesn t blame his problem on the rest of the world he knows that he could lose weight and become more sexually attractive but that doesn t mean his obesity isn t part of a huge mental battle he s fighting i m fighting pretty much the same one i can t believe i m saying this but i m glad i found drugs or i might have ended up like him now of course i m clean and i weigh about pounds and i m in great shape actually i m still an addict but i m taking drugs which work for my pain without causing all the other issues but there s still a mental battle going on i firmly believe that everybody s got some sort of mental complex and everybody has their own coping mechanisms a majority have unhealthy coping mechanisms of some sort it s just that a lot of us don t telegraph our coping methods people can t see from the outside what we do when we re alone usually with fat people you can immediately tell and that must feel really sad and embarrassing for them i feel really bad for obese people yes they can clean up their shit and lose some weight but it s just as hard as quitting heroin if not harder they deserve as much sympathy as someone who s coping with the same problems by laying in bed for days straight but instead we laugh at them it s really sad that we shame fat people but that doesn t mean SJWs can take advantage of this sob story and start making fascistic demands that everybody get boners in the presence of fat chicks it s fucking ludicrous to bitch at people for their sexual interests they say it s perfectly fine for a woman to be attracted to another woman if you disapprove you re a homophobe but if a man is attracted to a physically healthy woman HOW DARE HE CHAUVINIST PIG WOMANIZER STEREOTYPICAL GENDER ROLES INDOCTRINATION even funnier is that they think there s some mythical organization with omnipotent control over society that brainwashes men into thinking skinny women are attractive did it ever occur to them that maybe just maybe men like all other animals are subconsciously attracted to visibly healthy specimens because it visually conveys confirmation of the specimen s genetic fitness when did it become bigotry to want to reproduce with genetically healthy individuals the day that we outlaw sexual selection is the day our species begins to decline if it s not declining already that is sexual selection is pretty much the only means of natural selection that humans are still subject to we are all capable of living off welfare so differences in intelligence and physical fitness do not really tend to kill off the weak anymore the only mechanism of natural selection that inhibits the genetic decline of humans at least the only one i can think of is sexual selection in other words feminists need to take a biology class god damn \n",
      "\n",
      " Fat acceptance is a real thing https danceswithfat wordpress com blog Actually that woman s pretty funny to google just completely delusional Ran a marathon in hours yes that s about minutes per mile to prove how healthy and fit she is even though she s morbidly obese And she makes dance videos where she flops around on the ground a lot to prove how limber and in shape she is It would be depressing if she wasn t so cocky about it But aside from Raegan I see posts on facebook all the time pictures of fat chicks vs skinny chicks saying things like When did this skinny become more attractive than this not skinny but definitely not fat trying to justify obesity pictures with quotes like Real men like curves only dogs like bones hell there was even a movie made called Real men like curves as if liking healthy and athleticism makes a man not real there are things like Dove s Real Beauty campaign featuring fat women as if being thin makes you fake companies constantly being slammed for using thin models and being forced to use fat women in their ads etc HAES and fat acceptance is very very real and its wrong Healthy bodies should be idealized instead of unhealthy bodies forcing society to accept theirs as ideal and acceptable Also women do get about the same pay for the same work I m sure as a feminist you ve done research into what bullshit that cents on the dollar thing is and don t have to ask their fathers and or husbands for permission to make changes in their lives in the Western World Which is why people tend to roll their eyes at feminists these days They ve achieved a lot and certainly served a huge purpose to women in society but harping on things that aren t true just gets annoying Plus there are way more very vocal feminazis than you want to admit I run into them constantly in day to day life \n",
      "\n",
      "I definitely understand where that frustration could come from but I assure you it s so much more complicated than it appears I ll explain I used to be super obese over lbs Being obese means living in a world that isn t made for you to fit into will that chair hold me Does the restaurant have any arm less chairs Will there be someone sitting in the middle seat Where can I find clothes in my size Will my friends care if I ride shotgun again For people who have never been severely overweight the formula is super simple diet exercise healthy weight It s so simple that obese people must be stupid if they re not getting it But if you re constantly feeling like you can t physically fit in the world around you you start to hate yourself more and more You get to a place where you just think this is what you deserve Being super obese feels like standing at the base of Mount Everest When you look up you can t even see the peak Your loved ones and your doctor all encourage you to climb to the top but you just stand there arrested by the fear of setting out to accomplish such a terrifying task You just see the mountain not the single step you need to take And the single step right after that And your standing there makes you hate yourself even more You feel like a disappointment to yourself and to those around you You sort of resign yourself to a life of obesity so when it comes to having one more slice of pizza you think Fuck it I m already fat Who cares If you ran blood tests on me at any point in my life so far everything would have checked out I was never pre diabetic at least not on paper and none of my blood tests would have indicated that anything was wrong with me In the moment I thought Sure I m morbidly obese but my doctor said my blood work was fine Occasionally you ll try to do something to change You ll take a few steps up Everest Maybe you start cutting some things out of your diet You think My doctor told me to eat these things I m eating those things so I must be healthy right Sure I m not losing weight but I am doing what the doctor told me to I think people who are naturally thin sometimes don t realize how much misinformation is out there whole grains this and nonfat that You try to buy only those things and realize that nothing is changing Or you do your best to stay on track but constantly feel hungry because you re never eating enough food to feel satisfied Eventually the hunger gets to be too much and you binge For the last three months before I got my shit together I was a strict vegetarian and I didn t lose any weight It took me until my early s for someone to say Hey you have an eating disorder An eating disorder I refused to believe them They talked me through specific behaviors and symptoms and I finally realized that I had an eating disorder No one ever framed it that way for me I was always told I was just being lazy I should just get up and go exercise I should just eat less My obesity was merely a symptom of my weak and pitiful character Imagine the outrage if anorexic people were told to man up and just eat more Or that they re just stupid for letting themselves get so skinny This isn t meant to minimize the struggle of people who are anorexic or bulimic My goal is just to say I think obese folks would be a lot more successful in overcoming their disordered eating if people met them with compassion and a little understanding What made my finally get my act together isn t very important what s important is that I got my act together My entire experience of the world is different now I m getting close to a minute mile when I run k I don t ever have problems with chairs at restaurants and my frustration with getting stuck in the middle seat no longer has anything to do with my weight But the mental scars of being obese are still there I still worry I ll break a chair or that I won t fit into a space even though those aren t problems anymore I get why you might get angry with super obese people saying how healthy they are but try to meet them with compassion They likely know they re unhealthy and are trying to make the best of what feels like an impossible situation And their obesity isn t merely a result of lack of self control access to income proper nutrition and trustworthy dietary recommendations all play a role in how well a person can take care of themselves When I was obese I hated how I looked and could be my own worst critic If someone can be super obese and still love themselves why take that away from them I was happy had friends and was pretty outgoing but I definitely hated the body I felt trapped in If an obese person loves their body and feels confident in their skin why not let them have that Why does that disturb people At the end of the day we all know what the risks of obesity are Just like we all know what the risks of smoking tanning or binge drinking are The reasons people do things that are bad for them are complicated it doesn t mean that they deserve to be disrespected or looked down on neither of which will help them improve We re all just trying to make the best of the situations we are in on this planet and we re bound to change in the process tl dr I used to be super obese but am not anymore Obesity is so much more complicated than it seems \n",
      "\n",
      "I think that body acceptance is a good idea in principle as in we all have different figures but as long as we eat well exercise and maintain a healthy weight that s OK For example no matter what I eat or how I exercise I m never going to have long skinny legs and slim hips like a supermodel because that s not how I m built I m short and somewhere in between hourglass and pear shaped That doesn t bother me nor should it bother other people because I m not overweight and I m comfortable with my body I can accept the ways in which my figure deviates from the unrealistic standards set by models and celebrities But it s such a slippery slope The Fat Acceptance movement has become a perfect example of this The core of the movement does not consist of mildly or even moderately overweight people protesting social norms and the glorification of thinness It consists of severely overweight women who want others to believe that there is nothing wrong with obesity and most obese people cannot lose weight by consuming less and exercising more I support the original message of not bullying people for their size but I think it s dangerous and irresponsible to promote the idea that being fat is acceptable and out of a person s control Paying lip service to living a healthy lifestyle isn t good enough when you re simultaneously giving millions of unhealthy people an excuse not to change Some people are naturally skinnier than others and have an easier time keeping excess weight off but that doesn t mean obesity is healthy or natural It means that while you may never be a size you can and should manage your lifestyle so that your weight does not reach an unhealthy level A minority of obese people have a genuine medical condition that makes weight loss extremely difficult if not impossible These people are the exception not the rule The Fat Acceptance movement trivializes and disrespects those who experience uncontrollable weight gain by claiming that the same problem applies to all or most overweight people And that really bothers me I consider it similar to for example incorrectly self diagnosing oneself with Aspergers as an excuse for behaving obnoxiously or inconsiderately Personally I advocate treating the lifestyle choices associated with obesity like smoking There are plenty of similarities The consensus among doctors is that both are bad for your health People use both to cope with stress and emotional problems Both are difficult but not impossible to quit Neither one makes you a bad person just a person who makes poor choices about what to do with his or her body In this scenario the Fat Acceptance movement is no better than Big Tobacco denying the connection between cigarettes and lung cancer They may not have the same motive but they re committing the same crime As far how the rest of us should treat overweight people goes I think smoking is still a good template to follow Generally speaking we accept that adults have the right to do unhealthy things provided their choices do not harm others We might judge them for it but that s not an excuse to be a jerk Most non smokers won t approach strangers holding cigarettes to lecture them on the risks of smoking It s OK to express concern to a friend or relative who smokes to offer help and moral support if they want to quit but it s rude to do this with a stranger I think the same should go for obesity it s rude to approach a stranger and criticize their weight or their lifestyle but it s acceptable to express concern and offer support to loved ones in the same situation Ultimately we have to understand that we can t control the behavior of others but that doesn t mean we have to embrace their choices or join them in denying the consequences \n",
      "\n",
      "Here s what I have to say about this Fat shaming is terrible Fat encouraging is horrible Fat acceptance is not that bad I may be misusing the words in context but to me fat accepting is saying you are more than your weight Being overweight is only one aspect of you It does not define you It is part of you a not very good part of you but it s just a part You are beautiful not because you are fat you are not beautiful despite your weight you are just beautiful To me that s what acceptance means Now I know there are people out there a lot of them women who says things like real women have curves No All women are real women I strongly disagree with encouraging obesity in the name of feminism or any other kind of isms Men want us to be smaller so they can dominate us easier Men wants to dictate how us women should look like Ugh I can t believe there are communities out there that encourage actual encouraging people to gain weight to fight oppression or whatever Saying a person looks better fatter or saying a person looks good at their current body to me is not fat encouraging because those opinions could be a genuine personal opinion People have mentioned the issue of health Reddit is notorious for equating fat with being unhealthy While very true by saying fat unhealthy in contrast they are also saying skinny healthy Utter bullshit There are higher chances of certain problems with people who are overweight but that doesn t mean skinnier people won t have their share of potential problems Another thing that seems to be rarely mentioned when it comes to talking about fat and health mental health To me this kind of health is just as important if not more as physical health If a person is obese and happy shaming that person into making themselves healthier could be incredibly stressful If the person is already upset with his or her body shaming would make it worse Fat shaming or maybe fat unacceptance can sometimes work Unaccommodating chairs lead to a person making lifestyle changes Wonderful that that happened but it was something the person came up with on their own If a person is not ready to make that change an even more unaccommodating chair would not change that fact By making a larger chair for a larger person maybe not just be a sign that it s ok to be fat It could be a wake up call for people for needing special chairs It depends on the person the situation etc etc A while back there was a post where an overweight women posed in public in her underwear with the words beautiful on her body I don t know that person or her work but I interpreted it as he saying just cuz she is fat she is also beautiful She was not telling people to look like her to be beautiful like society does with skinny people She was saying she s beautiful Reddit sarcastically posted a picture of a banana with the word apple carved on it implying that just because you label yourself as such doesn t mean that you are This is the kind of thing I find harmful on Reddit Reddit is not a community with fat encouraging so I m not going to talk much about this but fat shaming is frequent I find it just as low as the former I am definitely not denying the fact that being overweight isn t good However to merely focus on the weight of a person is so limiting Obesity is a huge issue So is the obsession with skinny Telling another person how he or she should be like even for their own good may not always be called for Weak conclusion but I m tired and I am late for class so eh \n",
      "\n"
     ]
    }
   ],
   "source": [
    "# anecdote\n",
    "listOfWords = [\"obese\", \"fat\", \"unhealthy\", \"skinny\"]\n",
    "count = 0\n",
    "for sentence in bodyList:\n",
    "    if all(word in sentence for word in listOfWords):\n",
    "        if count <= 5:\n",
    "            print(sentence + \"\\n\")\n",
    "            count += 1"
   ]
  },
  {
   "cell_type": "code",
   "execution_count": 15,
   "metadata": {
    "collapsed": false
   },
   "outputs": [
    {
     "name": "stdout",
     "output_type": "stream",
     "text": [
      "3265.0 : Agreed. If they were just anti fat-shaming, I'd be on board. However, fat acceptance activists like to cherry-pick medical studies and downplay the serious health effects associated with obesity, which is messed up.  \n",
      "\n",
      "898.0 : Exactly. Calories are tough burn. If you're out of shape in the beginning, you'd have to really bust your ass to even burn a couple hundred Calories per day\\*, and it's so stupidly easy to re-consume a couple hundred Calories.\n",
      "\n",
      "I was counting Calories a couple months ago and keeping track of them with an extremely handy app called MyFitnessPal, and trying to walk about 1.5km per day (tracking with RunKeeper). Unfortunately I recently fell off the wagon, but when I was doing it those apps offered me a ton of insight into just how many Calories are in common foods, and just how difficult it is to burn them.\n",
      "\n",
      "The point is that it's much *much* easier to simply not consume Calories in the first place, than to try to burn off the ones you do consume. (And believe me, as a person suffering from obesity most of my life, I know how difficult it still is to refrain from eating sometimes. But it's still a lot easier to eschew 400 Calories in a day by simply not eating a chocolate filled croissant than it is to exercise enough to burn 400 Calories. You're talking like an hour and a half of rather strenuous activity.)\n",
      "\n",
      "\\* **Edit:** What I mean to say is that it's a lot more difficult to push yourself to exercise when you're initially heavy and/or out of shape. While the Calories you burn during exercising are higher due to more effort being expended, initially you have a greater chance of injuring yourself or facing discouragement by hitting the wall than when you're in better shape and in the habit of exercising. \n",
      "\n",
      "821.0 : The problem isn't that obesity runs in your family....it's the nobody runs in your family.  \n",
      "\n",
      "533.0 : I'm a fat guy. I've got 100+ pounds to lose. Is that OK? Hell no. Does that make a lesser person? Of course not. When people talk about how disgusting fat people are, it doesn't make us want to lose weight. For me it makes me want to say \"Fuck you then, I'll be over here with my bacon and my cake.\" We need to accept it as a condition. Not an illness, but a curable  condition. Accept the person, you don't have to accept their choices. You aren't going to help if you try shaming someone into fitness, or try to force them into it. Yes, obesity is an issue that should be dealt with. Yes I'm working on losing weight by change of diet and adding more physical activity. Did that come about because someone made me feel bad enough about myself that I changed? No. In fact its those people that made me put it off as long as I did. I changed because I wanted to be worth my girlfriends affection. Not that she doesn't love me as I am, but she deserves the best there is, and a 320 pound dude with a beard and barely employed doesn't fit the bill. When someone has a goal, that's when they will work to change. You have fat friends? Love them as they are. But help them find their goal. What will make them want to lose weight? \n",
      "EDIT: Thanks for my first gold, whoever you may be.  \n",
      "\n",
      "387.0 : Written by an Englishman, about the English equivalent of Middle Earth, played by Englishmen in the adaptions.\n",
      "\n",
      "The second breakfast seems English, what with rising obesity and all. \n",
      "\n",
      "---------------------------------------------------------------------------------------------------------------------\n",
      "0.0 : The modern diseases I see most cited are tooth decay, arthritis, and obesity. These are really diseases of industrialization so there's a lot more data than you'd think. I have only a cursory familiarity of the subject and have to rely on the herd for more, though, but it seems to mostly agree with conventional wisdom anyway.\n",
      "\n",
      "I try not to think about type 2 diabetes. My mom has it and I had a positive anti gad65 test at one point. So far so good though. \n",
      "\n",
      "1.0 : Which type of malaria? There are several species relevant to humans. One has almost no symptoms. Vivax is no fun but much more treatable than obesity. I guess you are being imprecise for the sake of brevity and actually mean falciparum. Is there a vaccine for P. falciparum? You invent it? You should tell Bill Gates he has a big check waiting for you. \n",
      "\n",
      "2.0 : None of that causes the body to create something out of nothing. If someone is on medication that does that, then they can eat less food to avoid gaining weight. Since that can be done, the medication doesn't cause weight gain. The weight gain is caused by the failure of the person to take that side effect into account and eat less accordingly.  Short people can't eat as much as tall people with the same activity level without getting fat, but that doesn't mean that being short causes obesity. \n",
      "\n",
      "Edit for clarity. \n",
      "\n",
      "3.0 : http://www.webmd.com/diet/news/20150105/study-debunks-notion-of-healthy-obesity?src=RSS_PUBLIC\n",
      "\n",
      "Got discredited. Obesity, even the healthy type, is EXTREMELY LIKELY to become unhealthy over time. \n",
      "\n",
      "4.0 : No, not for most. Morbid obesity is not a kink for most people \n",
      "\n"
     ]
    }
   ],
   "source": [
    "scoreDict = obesitySubreddits.set_index('score')['body'].to_dict()\n",
    "\n",
    "topScoreCount = 0\n",
    "for score, body in sorted(scoreDict.items(),reverse = True):\n",
    "    if topScoreCount != 5:\n",
    "        print(score, \":\" ,body, \"\\n\")\n",
    "        topScoreCount += 1\n",
    "print (\"---------------------------------------------------------------------------------------------------------------------\")        \n",
    "bottomScoreCount = 0\n",
    "for score, body in sorted(scoreDict.items()):\n",
    "    if bottomScoreCount != 5:\n",
    "        print(score, \":\" ,body, \"\\n\")\n",
    "        bottomScoreCount += 1"
   ]
  },
  {
   "cell_type": "markdown",
   "metadata": {},
   "source": [
    "# Analysis on Eating Disorder-Related Subreddts (including Anorexia and Obesity)"
   ]
  },
  {
   "cell_type": "code",
   "execution_count": 10,
   "metadata": {
    "collapsed": false
   },
   "outputs": [
    {
     "data": {
      "text/html": [
       "<div>\n",
       "<table border=\"1\" class=\"dataframe\">\n",
       "  <thead>\n",
       "    <tr style=\"text-align: right;\">\n",
       "      <th></th>\n",
       "      <th>author</th>\n",
       "      <th>body</th>\n",
       "      <th>subreddit</th>\n",
       "      <th>subreddit_id</th>\n",
       "      <th>score</th>\n",
       "    </tr>\n",
       "  </thead>\n",
       "  <tbody>\n",
       "    <tr>\n",
       "      <th>0</th>\n",
       "      <td>casiells</td>\n",
       "      <td>Well..when someone is obese its obvious when y...</td>\n",
       "      <td>TumblrInAction</td>\n",
       "      <td>t5_2vizz</td>\n",
       "      <td>1</td>\n",
       "    </tr>\n",
       "    <tr>\n",
       "      <th>1</th>\n",
       "      <td>RealNotFake</td>\n",
       "      <td>&amp;gt;Clean eating means not overly processed, t...</td>\n",
       "      <td>Fitness</td>\n",
       "      <td>t5_2qhx4</td>\n",
       "      <td>7</td>\n",
       "    </tr>\n",
       "    <tr>\n",
       "      <th>2</th>\n",
       "      <td>taicapzen</td>\n",
       "      <td>\"You're gaining weight!\"\\rBecause you were a G...</td>\n",
       "      <td>raisedbynarcissists</td>\n",
       "      <td>t5_2we9n</td>\n",
       "      <td>9</td>\n",
       "    </tr>\n",
       "    <tr>\n",
       "      <th>3</th>\n",
       "      <td>MetricLemur</td>\n",
       "      <td>For the last 100,000 years of humanity obesity...</td>\n",
       "      <td>sex</td>\n",
       "      <td>t5_2qh3p</td>\n",
       "      <td>5</td>\n",
       "    </tr>\n",
       "    <tr>\n",
       "      <th>4</th>\n",
       "      <td>Unbearable_facts</td>\n",
       "      <td>The EU courts now says that obesity is a disab...</td>\n",
       "      <td>videos</td>\n",
       "      <td>t5_2qh1e</td>\n",
       "      <td>1</td>\n",
       "    </tr>\n",
       "    <tr>\n",
       "      <th>5</th>\n",
       "      <td>curiousnotacat</td>\n",
       "      <td>A joke?!? *I'm shouting by this point.* How th...</td>\n",
       "      <td>XMenRP</td>\n",
       "      <td>t5_31uz5</td>\n",
       "      <td>1</td>\n",
       "    </tr>\n",
       "    <tr>\n",
       "      <th>6</th>\n",
       "      <td>halloweenharry</td>\n",
       "      <td>I'm not sure if anyone is going to read this b...</td>\n",
       "      <td>AskReddit</td>\n",
       "      <td>t5_2qh1i</td>\n",
       "      <td>3</td>\n",
       "    </tr>\n",
       "    <tr>\n",
       "      <th>7</th>\n",
       "      <td>Whowillryze</td>\n",
       "      <td>No offense but i don't understand obese people...</td>\n",
       "      <td>pics</td>\n",
       "      <td>t5_2qh0u</td>\n",
       "      <td>1</td>\n",
       "    </tr>\n",
       "    <tr>\n",
       "      <th>8</th>\n",
       "      <td>itsrain</td>\n",
       "      <td>My understanding is that simple carbs have low...</td>\n",
       "      <td>Fitness</td>\n",
       "      <td>t5_2qhx4</td>\n",
       "      <td>-1</td>\n",
       "    </tr>\n",
       "    <tr>\n",
       "      <th>9</th>\n",
       "      <td>duarchie</td>\n",
       "      <td>Guess now you're just morbidly obese... Keep i...</td>\n",
       "      <td>pics</td>\n",
       "      <td>t5_2qh0u</td>\n",
       "      <td>5</td>\n",
       "    </tr>\n",
       "  </tbody>\n",
       "</table>\n",
       "</div>"
      ],
      "text/plain": [
       "             author                                               body  \\\n",
       "0          casiells  Well..when someone is obese its obvious when y...   \n",
       "1       RealNotFake  &gt;Clean eating means not overly processed, t...   \n",
       "2         taicapzen  \"You're gaining weight!\"\\rBecause you were a G...   \n",
       "3       MetricLemur  For the last 100,000 years of humanity obesity...   \n",
       "4  Unbearable_facts  The EU courts now says that obesity is a disab...   \n",
       "5    curiousnotacat  A joke?!? *I'm shouting by this point.* How th...   \n",
       "6    halloweenharry  I'm not sure if anyone is going to read this b...   \n",
       "7       Whowillryze  No offense but i don't understand obese people...   \n",
       "8           itsrain  My understanding is that simple carbs have low...   \n",
       "9          duarchie  Guess now you're just morbidly obese... Keep i...   \n",
       "\n",
       "             subreddit subreddit_id  score  \n",
       "0       TumblrInAction     t5_2vizz      1  \n",
       "1              Fitness     t5_2qhx4      7  \n",
       "2  raisedbynarcissists     t5_2we9n      9  \n",
       "3                  sex     t5_2qh3p      5  \n",
       "4               videos     t5_2qh1e      1  \n",
       "5               XMenRP     t5_31uz5      1  \n",
       "6            AskReddit     t5_2qh1i      3  \n",
       "7                 pics     t5_2qh0u      1  \n",
       "8              Fitness     t5_2qhx4     -1  \n",
       "9                 pics     t5_2qh0u      5  "
      ]
     },
     "execution_count": 10,
     "metadata": {},
     "output_type": "execute_result"
    }
   ],
   "source": [
    "bothSubreddits.head(10)"
   ]
  },
  {
   "cell_type": "code",
   "execution_count": 11,
   "metadata": {
    "collapsed": false
   },
   "outputs": [
    {
     "data": {
      "text/plain": [
       "AskReddit         2119\n",
       "fatpeoplehate     1801\n",
       "fatlogic          1410\n",
       "Fitness            361\n",
       "funny              321\n",
       "relationships      298\n",
       "WTF                268\n",
       "todayilearned      229\n",
       "loseit             221\n",
       "TumblrInAction     186\n",
       "Name: subreddit, dtype: int64"
      ]
     },
     "execution_count": 11,
     "metadata": {},
     "output_type": "execute_result"
    }
   ],
   "source": [
    "# most common subreddits posted to\n",
    "bothSubreddits[\"subreddit\"].value_counts()[:10]"
   ]
  },
  {
   "cell_type": "code",
   "execution_count": 12,
   "metadata": {
    "collapsed": false
   },
   "outputs": [
    {
     "data": {
      "text/plain": [
       "leelem0n               50\n",
       "Acolyte_of_Swole       32\n",
       "maybesaydie            24\n",
       "MeMyselfAndI1974       20\n",
       "autowikibot            20\n",
       "pairyhenis             19\n",
       "NothingSuperSpecial    18\n",
       "brazil84               18\n",
       "itsmyotherface         17\n",
       "#NAME?                 16\n",
       "Name: author, dtype: int64"
      ]
     },
     "execution_count": 12,
     "metadata": {},
     "output_type": "execute_result"
    }
   ],
   "source": [
    "# most common subreddits authors\n",
    "bothSubreddits[\"author\"].value_counts()[:10]"
   ]
  },
  {
   "cell_type": "code",
   "execution_count": 14,
   "metadata": {
    "collapsed": true
   },
   "outputs": [],
   "source": [
    "scoreDict = bothSubreddits.set_index('author')['body'].to_dict()"
   ]
  },
  {
   "cell_type": "code",
   "execution_count": 15,
   "metadata": {
    "collapsed": false
   },
   "outputs": [
    {
     "name": "stdout",
     "output_type": "stream",
     "text": [
      "[('obese', 8556), ('fat', 6459), ('like', 6362), ('obesity', 5031), ('weight', 4987), ('eating', 4147), ('would', 4027), ('get', 3860), ('think', 3543), ('one', 3477), ('gt', 3065), ('even', 2924), ('really', 2854), ('food', 2724), ('also', 2674), ('body', 2669), ('know', 2652), ('much', 2646), ('eat', 2482), ('time', 2459)]\n",
      "[('salons', 1), ('excelled', 1), ('nitroferricyanide', 1), ('allen', 1), ('bulemics', 1), ('blitzcrank', 1), ('penchant', 1), ('gofers', 1), ('kost', 1), ('lrock', 1), ('convoy', 1), ('merican', 1), ('ikq', 1), ('mordern', 1), ('uj', 1), ('itnerwebs', 1), ('flashing', 1), ('spanky', 1), ('aleeeeeexxxxx', 1), ('narcissistically', 1)]\n"
     ]
    }
   ],
   "source": [
    "# idea, look at adjectives!!\n",
    "bodyList = []\n",
    "for val in bothSubreddits[\"body\"]:\n",
    "    val = re.sub(\"[^a-zA-Z]+\", \" \", val)\n",
    "    bodyList.append(val)\n",
    "\n",
    "tokenList = []\n",
    "for sentence in bodyList:\n",
    "    tokens = nltk.word_tokenize(sentence)\n",
    "    tokenList.append(tokens)\n",
    "lowerCaseList = [item.lower() for sublist in tokenList for item in sublist]\n",
    "finalList = [word for word in lowerCaseList if word not in stopwords.words('english')]\n",
    "\n",
    "fdist = FreqDist(finalList)\n",
    "common = fdist.most_common()[0:21] # not including \"obesity\"\n",
    "uncommon = list(reversed(fdist.most_common()))[:20]\n",
    "print(common)\n",
    "print(uncommon)"
   ]
  },
  {
   "cell_type": "code",
   "execution_count": null,
   "metadata": {
    "collapsed": true
   },
   "outputs": [],
   "source": []
  }
 ],
 "metadata": {
  "kernelspec": {
   "display_name": "Python [Root]",
   "language": "python",
   "name": "Python [Root]"
  },
  "language_info": {
   "codemirror_mode": {
    "name": "ipython",
    "version": 3
   },
   "file_extension": ".py",
   "mimetype": "text/x-python",
   "name": "python",
   "nbconvert_exporter": "python",
   "pygments_lexer": "ipython3",
   "version": "3.5.2"
  }
 },
 "nbformat": 4,
 "nbformat_minor": 0
}
